{
 "cells": [
  {
   "cell_type": "code",
   "execution_count": 1,
   "metadata": {
    "tags": []
   },
   "outputs": [],
   "source": [
    "import matplotlib\n",
    "import matplotlib.pyplot as plt\n",
    "from matplotlib.backends.backend_pdf import PdfPages\n",
    "\n",
    "import pandas as pd\n",
    "import seaborn as sns\n",
    "\n",
    "matplotlib.rcParams['pdf.fonttype'] = 42\n",
    "matplotlib.rcParams['ps.fonttype'] = 42\n",
    "\n",
    "sns.set_context('talk', font_scale=1)"
   ]
  },
  {
   "cell_type": "code",
   "execution_count": 10,
   "metadata": {},
   "outputs": [],
   "source": [
    "# input_file = '../../resources/catalog_tsv_standard/estrs.tsv'\n",
    "# input_label = 'trf'\n",
    "# ref_length_cutoff = 100"
   ]
  },
  {
   "cell_type": "code",
   "execution_count": 11,
   "metadata": {},
   "outputs": [],
   "source": [
    "input_file = snakemake.input[0]\n",
    "input_label = snakemake.wildcards['catalog']"
   ]
  },
  {
   "cell_type": "code",
   "execution_count": 12,
   "metadata": {},
   "outputs": [
    {
     "data": {
      "text/plain": [
       "906"
      ]
     },
     "execution_count": 12,
     "metadata": {},
     "output_type": "execute_result"
    }
   ],
   "source": [
    "df = pd.read_csv(input_file, sep='\\t')\n",
    "len(df)"
   ]
  },
  {
   "cell_type": "code",
   "execution_count": 13,
   "metadata": {},
   "outputs": [],
   "source": [
    "if len(df) > 50000:\n",
    "    df = df.sample(50000, random_state=420)"
   ]
  },
  {
   "cell_type": "code",
   "execution_count": 14,
   "metadata": {},
   "outputs": [],
   "source": [
    "df['motif_gc'] = df['motif'].str.replace('[AT]', '', regex=True)\n",
    "df['gc_content'] = df['motif_gc'].str.len() / df['motif'].str.len()"
   ]
  },
  {
   "cell_type": "code",
   "execution_count": 17,
   "metadata": {},
   "outputs": [
    {
     "data": {
      "text/html": [
       "<div>\n",
       "<style scoped>\n",
       "    .dataframe tbody tr th:only-of-type {\n",
       "        vertical-align: middle;\n",
       "    }\n",
       "\n",
       "    .dataframe tbody tr th {\n",
       "        vertical-align: top;\n",
       "    }\n",
       "\n",
       "    .dataframe thead th {\n",
       "        text-align: right;\n",
       "    }\n",
       "</style>\n",
       "<table border=\"1\" class=\"dataframe\">\n",
       "  <thead>\n",
       "    <tr style=\"text-align: right;\">\n",
       "      <th></th>\n",
       "      <th>chr</th>\n",
       "      <th>start</th>\n",
       "      <th>stop</th>\n",
       "      <th>motif</th>\n",
       "      <th>gene</th>\n",
       "      <th>gene.name</th>\n",
       "      <th>num.e</th>\n",
       "      <th>beta</th>\n",
       "      <th>tissue_info</th>\n",
       "      <th>pval</th>\n",
       "      <th>score</th>\n",
       "      <th>str.motif.reverse</th>\n",
       "      <th>motif_gc</th>\n",
       "      <th>gc_content</th>\n",
       "    </tr>\n",
       "  </thead>\n",
       "  <tbody>\n",
       "    <tr>\n",
       "      <th>433</th>\n",
       "      <td>chr8</td>\n",
       "      <td>145172503</td>\n",
       "      <td>145172533</td>\n",
       "      <td>GTTTT</td>\n",
       "      <td>ENSG00000179698</td>\n",
       "      <td>KIAA1875</td>\n",
       "      <td>9</td>\n",
       "      <td>-0.522079</td>\n",
       "      <td>Adipose-Visceral_-0.24_0.01;Artery-Aorta_-0.38...</td>\n",
       "      <td>1.640230e-19</td>\n",
       "      <td>0.503221</td>\n",
       "      <td>AAAAC</td>\n",
       "      <td>G</td>\n",
       "      <td>0.200000</td>\n",
       "    </tr>\n",
       "    <tr>\n",
       "      <th>374</th>\n",
       "      <td>chr4</td>\n",
       "      <td>74723287</td>\n",
       "      <td>74723327</td>\n",
       "      <td>AC</td>\n",
       "      <td>ENSG00000109272</td>\n",
       "      <td>PF4V1</td>\n",
       "      <td>3</td>\n",
       "      <td>-0.320064</td>\n",
       "      <td>Cells-Transformedfibroblasts_-0.32_0.27;Lung_-...</td>\n",
       "      <td>5.538045e-09</td>\n",
       "      <td>0.540133</td>\n",
       "      <td>GT</td>\n",
       "      <td>C</td>\n",
       "      <td>0.500000</td>\n",
       "    </tr>\n",
       "    <tr>\n",
       "      <th>129</th>\n",
       "      <td>chr6</td>\n",
       "      <td>133574081</td>\n",
       "      <td>133574144</td>\n",
       "      <td>AC</td>\n",
       "      <td>ENSG00000112319</td>\n",
       "      <td>EYA4</td>\n",
       "      <td>1</td>\n",
       "      <td>0.525523</td>\n",
       "      <td>Brain-Caudate_0.53_0.85</td>\n",
       "      <td>2.528901e-06</td>\n",
       "      <td>0.850280</td>\n",
       "      <td>GT</td>\n",
       "      <td>C</td>\n",
       "      <td>0.500000</td>\n",
       "    </tr>\n",
       "    <tr>\n",
       "      <th>293</th>\n",
       "      <td>chr1</td>\n",
       "      <td>20350885</td>\n",
       "      <td>20350904</td>\n",
       "      <td>GT</td>\n",
       "      <td>ENSG00000127472</td>\n",
       "      <td>PLA2G5</td>\n",
       "      <td>3</td>\n",
       "      <td>0.310206</td>\n",
       "      <td>Adipose-Subcutaneous_0.31_0.09;Muscle-Skeletal...</td>\n",
       "      <td>3.498943e-07</td>\n",
       "      <td>0.613776</td>\n",
       "      <td>AC</td>\n",
       "      <td>G</td>\n",
       "      <td>0.500000</td>\n",
       "    </tr>\n",
       "    <tr>\n",
       "      <th>502</th>\n",
       "      <td>chr15</td>\n",
       "      <td>90196974</td>\n",
       "      <td>90197019</td>\n",
       "      <td>AGTATT</td>\n",
       "      <td>ENSG00000140534</td>\n",
       "      <td>TICRR</td>\n",
       "      <td>1</td>\n",
       "      <td>0.309354</td>\n",
       "      <td>Artery-Aorta_0.31_0.45</td>\n",
       "      <td>1.735595e-05</td>\n",
       "      <td>0.451433</td>\n",
       "      <td>AATACT</td>\n",
       "      <td>G</td>\n",
       "      <td>0.166667</td>\n",
       "    </tr>\n",
       "  </tbody>\n",
       "</table>\n",
       "</div>"
      ],
      "text/plain": [
       "       chr      start       stop   motif             gene gene.name  num.e  \\\n",
       "433   chr8  145172503  145172533   GTTTT  ENSG00000179698  KIAA1875      9   \n",
       "374   chr4   74723287   74723327      AC  ENSG00000109272     PF4V1      3   \n",
       "129   chr6  133574081  133574144      AC  ENSG00000112319      EYA4      1   \n",
       "293   chr1   20350885   20350904      GT  ENSG00000127472    PLA2G5      3   \n",
       "502  chr15   90196974   90197019  AGTATT  ENSG00000140534     TICRR      1   \n",
       "\n",
       "         beta                                        tissue_info  \\\n",
       "433 -0.522079  Adipose-Visceral_-0.24_0.01;Artery-Aorta_-0.38...   \n",
       "374 -0.320064  Cells-Transformedfibroblasts_-0.32_0.27;Lung_-...   \n",
       "129  0.525523                            Brain-Caudate_0.53_0.85   \n",
       "293  0.310206  Adipose-Subcutaneous_0.31_0.09;Muscle-Skeletal...   \n",
       "502  0.309354                             Artery-Aorta_0.31_0.45   \n",
       "\n",
       "             pval     score str.motif.reverse motif_gc  gc_content  \n",
       "433  1.640230e-19  0.503221             AAAAC        G    0.200000  \n",
       "374  5.538045e-09  0.540133                GT        C    0.500000  \n",
       "129  2.528901e-06  0.850280                GT        C    0.500000  \n",
       "293  3.498943e-07  0.613776                AC        G    0.500000  \n",
       "502  1.735595e-05  0.451433            AATACT        G    0.166667  "
      ]
     },
     "execution_count": 17,
     "metadata": {},
     "output_type": "execute_result"
    }
   ],
   "source": [
    "# df.sample(5)"
   ]
  },
  {
   "cell_type": "code",
   "execution_count": 15,
   "metadata": {},
   "outputs": [
    {
     "data": {
      "image/png": "[encoded data removed]",
      "text/plain": [
       "<Figure size 432x288 with 1 Axes>"
      ]
     },
     "metadata": {
      "needs_background": "light"
     },
     "output_type": "display_data"
    }
   ],
   "source": [
    "pdf = PdfPages(snakemake.output[0])\n",
    "fig, ax = plt.subplots()\n",
    "sns.histplot(x='gc_content', data=df, ax=ax, stat='probability', kde=True)\n",
    "ax.set_title('GC Content of {}'.format(input_label))\n",
    "ax.set_xlabel('Length (bp)')\n",
    "ax.set_ylim(0, 1)\n",
    "plt.tight_layout()\n",
    "pdf.savefig(fig)\n",
    "pdf.close()"
   ]
  }
 ],
 "metadata": {
  "kernelspec": {
   "display_name": "jupyter",
   "language": "python",
   "name": "jupyter"
  },
  "language_info": {
   "codemirror_mode": {
    "name": "ipython",
    "version": 3
   },
   "file_extension": ".py",
   "mimetype": "text/x-python",
   "name": "python",
   "nbconvert_exporter": "python",
   "pygments_lexer": "ipython3",
   "version": "3.9.6"
  }
 },
 "nbformat": 4,
 "nbformat_minor": 5
}
