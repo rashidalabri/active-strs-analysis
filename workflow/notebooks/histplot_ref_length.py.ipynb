{
 "cells": [
  {
   "cell_type": "code",
   "execution_count": null,
   "id": "1eeebc8c-8b5a-471a-9bc9-9c901cfc7e61",
   "metadata": {
    "tags": []
   },
   "outputs": [],
   "source": [
    "import matplotlib\n",
    "import matplotlib.pyplot as plt\n",
    "from matplotlib.backends.backend_pdf import PdfPages\n",
    "\n",
    "import pandas as pd\n",
    "import seaborn as sns\n",
    "import numpy as np\n",
    "\n",
    "matplotlib.rcParams['pdf.fonttype'] = 42\n",
    "matplotlib.rcParams['ps.fonttype'] = 42\n",
    "\n",
    "sns.set_context('talk', font_scale=1)"
   ]
  },
  {
   "cell_type": "code",
   "execution_count": null,
   "id": "d0f1ba41-bcdd-4ef1-b272-c06f6883dd7f",
   "metadata": {},
   "outputs": [],
   "source": [
    "# input_file = '../../resources/catalog_tsv_standard/gangstr.tsv'\n",
    "# input_label = 'trf'\n",
    "# ref_length_cutoff = 100"
   ]
  },
  {
   "cell_type": "code",
   "execution_count": null,
   "id": "62a942b5-dd76-426c-9059-4b96b5745f56",
   "metadata": {},
   "outputs": [],
   "source": [
    "input_file = snakemake.input[0]\n",
    "input_label = snakemake.wildcards['catalog']\n",
    "ref_length_cutoff = snakemake.config['plot']['ref_length_cutoff']"
   ]
  },
  {
   "cell_type": "code",
   "execution_count": null,
   "id": "eb614fd3-b629-45c6-98ef-106fc69372ed",
   "metadata": {},
   "outputs": [],
   "source": [
    "df = pd.read_csv(input_file, sep='\\t')\n",
    "len(df)"
   ]
  },
  {
   "cell_type": "code",
   "execution_count": null,
   "id": "0f3bbe7a-969d-4cf9-8e07-261c5a00b650",
   "metadata": {},
   "outputs": [],
   "source": [
    "if len(df) > 50000:\n",
    "    df = df.sample(50000, random_state=420)"
   ]
  },
  {
   "cell_type": "code",
   "execution_count": null,
   "id": "f321d9ea-19fa-4f8f-bd28-d66eaf6bbd26",
   "metadata": {},
   "outputs": [],
   "source": [
    "df['ref_len'] = df['stop'] - df['start']"
   ]
  },
  {
   "cell_type": "code",
   "execution_count": null,
   "id": "5769a528-10c3-4ba0-a289-1a8125f27d5a",
   "metadata": {},
   "outputs": [],
   "source": [
    "pdf = PdfPages(snakemake.output[0])"
   ]
  },
  {
   "cell_type": "code",
   "execution_count": null,
   "id": "810d0d01-b060-4576-84d1-910f235a25bc",
   "metadata": {},
   "outputs": [],
   "source": [
    "fig, ax = plt.subplots()\n",
    "sns.histplot(x='ref_len', data=df, ax=ax, stat='probability', binwidth=5, kde=True)\n",
    "ax.set_title('Refrence Lengths of {}'.format(input_label))\n",
    "ax.set_xlabel('Length (bp)')\n",
    "ax.set_xlim(0, ref_length_cutoff)\n",
    "ax.set_ylim(0, 1)\n",
    "plt.tight_layout()"
   ]
  },
  {
   "cell_type": "code",
   "execution_count": null,
   "id": "4ee545e6-b189-40f6-ae42-e98ee92fbaef",
   "metadata": {},
   "outputs": [],
   "source": [
    "pdf.savefig(fig)\n",
    "pdf.close()"
   ]
  }
 ],
 "metadata": {
  "kernelspec": {
   "display_name": "active-strs",
   "language": "python",
   "name": "active-strs"
  },
  "language_info": {
   "codemirror_mode": {
    "name": "ipython",
    "version": 3
   },
   "file_extension": ".py",
   "mimetype": "text/x-python",
   "name": "python",
   "nbconvert_exporter": "python",
   "pygments_lexer": "ipython3",
   "version": "3.9.6"
  }
 },
 "nbformat": 4,
 "nbformat_minor": 5
}
