{
 "cells": [
  {
   "cell_type": "code",
   "execution_count": null,
   "metadata": {},
   "outputs": [],
   "source": [
    "import matplotlib\n",
    "import matplotlib.pyplot as plt\n",
    "from matplotlib.backends.backend_pdf import PdfPages\n",
    "\n",
    "import pandas as pd\n",
    "import seaborn as sns\n",
    "# import scipy.stats as stats\n",
    "\n",
    "matplotlib.rcParams['pdf.fonttype'] = 42\n",
    "matplotlib.rcParams['ps.fonttype'] = 42\n",
    "\n",
    "sns.set_context('talk', font_scale=1)"
   ]
  },
  {
   "cell_type": "code",
   "execution_count": null,
   "metadata": {},
   "outputs": [],
   "source": [
    "input_file = '../../resources/novel_atac_gm.bed'\n",
    "input_label = 'Active'"
   ]
  },
  {
   "cell_type": "code",
   "execution_count": null,
   "metadata": {},
   "outputs": [],
   "source": [
    "dfs = []\n",
    "for bed in snakemake.input:\n",
    "    df = pd.read_table(bed, header=None)\n",
    "    last_col = list(df.columns)[-1]\n",
    "    df = df[[last_col]]\n",
    "    df.columns = ['distance']\n",
    "    df['catalog'] = bed.split('/')[0].split('.')[0]\n",
    "    dfs.append(df)\n",
    "    \n",
    "data = pd.concat(dfs, ignore_index=True)"
   ]
  },
  {
   "cell_type": "code",
   "execution_count": null,
   "metadata": {},
   "outputs": [],
   "source": [
    "# df = pd.read_csv(input_file, sep='\\t')\n",
    "# last_col = list(df.columns)[-1]\n",
    "# df = df[[last_col]]\n",
    "# df.columns = ['distance']\n",
    "# df['catalog'] = 'Active STRs'"
   ]
  },
  {
   "cell_type": "code",
   "execution_count": null,
   "metadata": {},
   "outputs": [],
   "source": [
    "# df2 = pd.read_csv('../../resources/trf_atac_gm.bed', sep='\\t')\n",
    "# last_col = list(df2.columns)[-1]\n",
    "# df2 = df2[[last_col]]\n",
    "# df2.columns = ['distance']\n",
    "# df2['catalog'] = 'TRF'"
   ]
  },
  {
   "cell_type": "code",
   "execution_count": null,
   "metadata": {},
   "outputs": [],
   "source": [
    "# df3 = pd.read_csv('../../resources/inactive_atac_gm.bed', sep='\\t')\n",
    "# last_col = list(df3.columns)[-1]\n",
    "# df3 = df3[[last_col]]\n",
    "# df3.columns = ['distance']\n",
    "# df3['catalog'] = 'Inactive'"
   ]
  },
  {
   "cell_type": "code",
   "execution_count": null,
   "metadata": {},
   "outputs": [],
   "source": [
    "# df = pd.concat([df, df2, df3], ignore_index=True)"
   ]
  },
  {
   "cell_type": "code",
   "execution_count": null,
   "metadata": {},
   "outputs": [],
   "source": [
    "pdf = PdfPages(snakemake.output[0])"
   ]
  },
  {
   "cell_type": "code",
   "execution_count": null,
   "metadata": {},
   "outputs": [],
   "source": [
    "p = snakemake.params"
   ]
  },
  {
   "cell_type": "code",
   "execution_count": null,
   "metadata": {},
   "outputs": [],
   "source": [
    "fig, ax = plt.subplots(figsize=(8,6))\n",
    "sns.kdeplot(x='distance', data=data[data['distance'].abs() < 20000], ax=ax, hue='catalog', bw_adjust=0.75)\n",
    "sns.move_legend(ax, \"upper left\", bbox_to_anchor=(1, 1))\n",
    "ax.set_title('Distance to {} {} Peaks in GM12878\\n'.format(p.target, p.assay))\n",
    "ax.set_xlabel('Distance (bp)')\n",
    "ax.set_xlim(-10000, 10000)\n",
    "ax.text(0, -0.1, 'Audit Information\\nWarning: {}\\nCompliance: {}\\nError: {}'.format(p.audit_warning, p.audit_not_compliant, p.audit_error), transform=fig.transFigure);\n",
    "plt.tight_layout()"
   ]
  },
  {
   "cell_type": "code",
   "execution_count": null,
   "metadata": {},
   "outputs": [],
   "source": [
    "# stats.ttest_ind(df['distance'], df2['distance'], equal_var=False)"
   ]
  },
  {
   "cell_type": "code",
   "execution_count": null,
   "metadata": {},
   "outputs": [],
   "source": [
    "# fig, ax = plt.subplots(figsize=(8,6))\n",
    "# sns.histplot(x='distance', data=df3[df3['distance'].abs() < 15000], ax=ax, kde=True, hue='catalog')\n",
    "# ax.set_title('Distance of {} to TSS'.format(input_label))\n",
    "# ax.set_xlabel('Distance (bp)')\n",
    "# ax.set_xlim(-10000, 10000)\n",
    "# plt.tight_layout()"
   ]
  },
  {
   "cell_type": "code",
   "execution_count": null,
   "metadata": {},
   "outputs": [],
   "source": [
    "pdf.savefig(fig)\n",
    "pdf.close()"
   ]
  },
  {
   "cell_type": "code",
   "execution_count": null,
   "metadata": {},
   "outputs": [],
   "source": [
    "# !module load bedtools && bedtools intersect -v -a ../../resources/catalog_bed_standard/trf.bed -b ../../resources/catalog_bed_standard/novel_v01.bed > ../../resources/inactive.bed "
   ]
  },
  {
   "cell_type": "code",
   "execution_count": null,
   "metadata": {},
   "outputs": [],
   "source": [
    "# !module load bedtools && bedtools closest -D a -a ../../resources/inactive.bed -b ../../resources/encode/atac-seq/gm12878/ENCFF470YYO.sorted.bed > ../../resources/inactive_atac_gm.bed"
   ]
  }
 ],
 "metadata": {
  "interpreter": {
   "hash": "714739cea5064488f9895573655852ea804a4efe30e4655ec4af6409913f7975"
  },
  "kernelspec": {
   "display_name": "jupyter",
   "language": "python",
   "name": "jupyter"
  },
  "language_info": {
   "codemirror_mode": {
    "name": "ipython",
    "version": 3
   },
   "file_extension": ".py",
   "mimetype": "text/x-python",
   "name": "python",
   "nbconvert_exporter": "python",
   "pygments_lexer": "ipython3",
   "version": "3.9.6"
  }
 },
 "nbformat": 4,
 "nbformat_minor": 4
}
