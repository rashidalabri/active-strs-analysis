{
 "cells": [
  {
   "cell_type": "code",
   "execution_count": 1,
   "metadata": {},
   "outputs": [],
   "source": [
    "import matplotlib\n",
    "import matplotlib.pyplot as plt\n",
    "from matplotlib.backends.backend_pdf import PdfPages\n",
    "\n",
    "import pandas as pd\n",
    "import seaborn as sns\n",
    "# import scipy.stats as stats\n",
    "\n",
    "matplotlib.rcParams['pdf.fonttype'] = 42\n",
    "matplotlib.rcParams['ps.fonttype'] = 42\n",
    "\n",
    "sns.set_context('talk', font_scale=1)"
   ]
  },
  {
   "cell_type": "code",
   "execution_count": null,
   "metadata": {},
   "outputs": [],
   "source": [
    "dfs = []\n",
    "for bed in snakemake.input:\n",
    "    df = pd.read_table(bed, header=None)\n",
    "    last_col = list(df.columns)[-1]\n",
    "    df = df[[last_col]]\n",
    "    df.columns = ['distance']\n",
    "    df['catalog'] = bed.split('/')[-1].split('_')[0]\n",
    "    dfs.append(df)\n",
    "    \n",
    "data = pd.concat(dfs, ignore_index=True)"
   ]
  },
  {
   "cell_type": "code",
   "execution_count": null,
   "metadata": {},
   "outputs": [],
   "source": [
    "pdf = PdfPages(snakemake.output[0])"
   ]
  },
  {
   "cell_type": "code",
   "execution_count": null,
   "metadata": {},
   "outputs": [],
   "source": [
    "p = snakemake.params\n",
    "\n",
    "fig, ax = plt.subplots(figsize=(8,6))\n",
    "sns.kdeplot(x='distance', data=data[data['distance'].abs() < 20000], ax=ax, hue='catalog', bw_adjust=0.75)\n",
    "sns.move_legend(ax, \"upper left\", bbox_to_anchor=(1, 1))\n",
    "ax.set_title('{} {} (GM12878)\\n'.format(p.target, p.assay))\n",
    "ax.set_xlabel('Distance (bp)')\n",
    "ax.set_xlim(-10000, 10000)\n",
    "# ax.text(0, -0.1, 'Audit Information\\nWarning: {}\\nCompliance: {}\\nError: {}'.format(p.audit_warning, p.audit_not_compliant, p.audit_error), transform=fig.transFigure);\n",
    "plt.tight_layout()"
   ]
  },
  {
   "cell_type": "code",
   "execution_count": null,
   "metadata": {},
   "outputs": [],
   "source": [
    "pdf.savefig(fig)\n",
    "pdf.close()"
   ]
  },
  {
   "cell_type": "code",
   "execution_count": null,
   "metadata": {},
   "outputs": [],
   "source": []
  },
  {
   "cell_type": "code",
   "execution_count": null,
   "metadata": {},
   "outputs": [],
   "source": []
  },
  {
   "cell_type": "code",
   "execution_count": null,
   "metadata": {},
   "outputs": [],
   "source": []
  },
  {
   "cell_type": "code",
   "execution_count": null,
   "metadata": {},
   "outputs": [],
   "source": []
  }
 ],
 "metadata": {
  "kernelspec": {
   "display_name": "Python 3.9.6 64-bit ('jupyter': conda)",
   "language": "python",
   "name": "python396jvsc74a57bd0714739cea5064488f9895573655852ea804a4efe30e4655ec4af6409913f7975"
  },
  "language_info": {
   "codemirror_mode": {
    "name": "ipython",
    "version": 3
   },
   "file_extension": ".py",
   "mimetype": "text/x-python",
   "name": "python",
   "nbconvert_exporter": "python",
   "pygments_lexer": "ipython3",
   "version": "3.9.6"
  }
 },
 "nbformat": 4,
 "nbformat_minor": 4
}
