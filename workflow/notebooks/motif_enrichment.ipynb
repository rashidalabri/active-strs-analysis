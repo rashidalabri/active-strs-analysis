{
 "cells": [
  {
   "cell_type": "code",
   "execution_count": 2,
   "metadata": {},
   "outputs": [],
   "source": [
    "import matplotlib\n",
    "import matplotlib.pyplot as plt\n",
    "import matplotlib.patches as mpatches\n",
    "from matplotlib.backends.backend_pdf import PdfPages\n",
    "\n",
    "import pandas as pd\n",
    "import seaborn as sns\n",
    "\n",
    "matplotlib.rcParams['pdf.fonttype'] = 42\n",
    "matplotlib.rcParams['ps.fonttype'] = 42\n",
    "\n",
    "sns.set_context('talk', font_scale=1)\n",
    "\n",
    "import numpy as np\n",
    "import scipy.stats as stats\n",
    "\n",
    "import networkx as nx"
   ]
  },
  {
   "cell_type": "code",
   "execution_count": 3,
   "metadata": {},
   "outputs": [],
   "source": [
    "import wordcloud"
   ]
  },
  {
   "cell_type": "code",
   "execution_count": 4,
   "metadata": {},
   "outputs": [],
   "source": [
    "from Bio.Seq import Seq"
   ]
  },
  {
   "cell_type": "code",
   "execution_count": 5,
   "metadata": {},
   "outputs": [],
   "source": [
    "def fdr(p_vals):\n",
    "    ranked_p_values = stats.rankdata(p_vals)\n",
    "    fdr = p_vals * len(p_vals) / ranked_p_values\n",
    "    fdr[fdr > 1] = 1\n",
    "    return fdr"
   ]
  },
  {
   "cell_type": "code",
   "execution_count": 6,
   "metadata": {},
   "outputs": [],
   "source": [
    "rep_motif_to_set_map = {}\n",
    "motif_to_rep_map = {}\n",
    "\n",
    "def rotate_motif(motif):\n",
    "    return motif[-1] + motif[:-1]\n",
    "\n",
    "def get_all_rotations(motif):\n",
    "    rots = [motif]\n",
    "    for _ in range(len(motif) - 1):\n",
    "        rotated = rotate_motif(rots[-1])\n",
    "        rots.append(rotated)\n",
    "    return rots\n",
    "\n",
    "def get_rep_motif(motif):\n",
    "    if motif in motif_to_rep_map:\n",
    "        return motif_to_rep_map[motif]\n",
    "    \n",
    "    motif_seq = Seq(motif)\n",
    "    rev_comp = str(motif_seq.reverse_complement())\n",
    "    \n",
    "    rots = get_all_rotations(motif)\n",
    "    rev_comp_rots = get_all_rotations(rev_comp)\n",
    "    \n",
    "    rep_set = rots + rev_comp_rots\n",
    "    rep_set.sort()\n",
    "    rep_motif = rep_set[0]\n",
    "    \n",
    "    for motif in rep_set:\n",
    "        motif_to_rep_map[motif] = rep_motif\n",
    "        \n",
    "    rep_motif_to_set_map[rep_motif] = rep_set\n",
    "    \n",
    "    return rep_motif\n",
    "\n",
    "def get_motif_gc_content(motif):    \n",
    "    g = motif.count('G')\n",
    "    c = motif.count('C')\n",
    "    total = len(motif)\n",
    "    return (g + c) / total\n",
    "\n",
    "def get_motif_at_content(motif):    \n",
    "    a = motif.count('A')\n",
    "    t = motif.count('T')\n",
    "    total = len(motif)\n",
    "    \n",
    "    return (a + t) / total"
   ]
  },
  {
   "cell_type": "code",
   "execution_count": 7,
   "metadata": {},
   "outputs": [
    {
     "data": {
      "text/plain": [
       "0.16666666666666666"
      ]
     },
     "execution_count": 7,
     "metadata": {},
     "output_type": "execute_result"
    }
   ],
   "source": [
    "get_motif_at_content('AGGGCC')"
   ]
  },
  {
   "cell_type": "code",
   "execution_count": 16,
   "metadata": {},
   "outputs": [],
   "source": [
    "novel = pd.read_csv('../../resources/catalog_tsv_standard/novel_v01.tsv', sep='\\t')\n",
    "trf = pd.read_csv('../../resources/catalog_tsv_standard/trf.tsv', sep='\\t')\n",
    "\n",
    "novel['name'] = 'novel'\n",
    "trf['name'] = 'trf'\n",
    "\n",
    "novel['period'] = ((novel['stop'] - novel['start']) / novel['motif'].str.len()).astype(int)\n",
    "trf['period'] = ((trf['stop'] - trf['start']) / trf['motif'].str.len()).astype(int)\n",
    "\n",
    "# Group motifs\n",
    "novel['rep_motif'] = novel['motif'].map(get_rep_motif)\n",
    "trf['rep_motif'] = trf['motif'].map(get_rep_motif)\n",
    "# novel['motif'] = novel['rep_motif']\n",
    "# trf['motif'] = trf['rep_motif']\n",
    "\n",
    "novel['gc_content'] = novel['rep_motif'].map(get_motif_gc_content)\n",
    "novel['at_content'] = novel['rep_motif'].map(get_motif_at_content)\n",
    "trf['gc_content'] = trf['rep_motif'].map(get_motif_gc_content)\n",
    "trf['at_content'] = trf['rep_motif'].map(get_motif_at_content)\n",
    "\n",
    "catalogs = pd.concat([novel, trf], ignore_index=True)"
   ]
  },
  {
   "cell_type": "code",
   "execution_count": 17,
   "metadata": {},
   "outputs": [
    {
     "data": {
      "text/html": [
       "<div>\n",
       "<style scoped>\n",
       "    .dataframe tbody tr th:only-of-type {\n",
       "        vertical-align: middle;\n",
       "    }\n",
       "\n",
       "    .dataframe tbody tr th {\n",
       "        vertical-align: top;\n",
       "    }\n",
       "\n",
       "    .dataframe thead th {\n",
       "        text-align: right;\n",
       "    }\n",
       "</style>\n",
       "<table border=\"1\" class=\"dataframe\">\n",
       "  <thead>\n",
       "    <tr style=\"text-align: right;\">\n",
       "      <th></th>\n",
       "      <th>chr</th>\n",
       "      <th>start</th>\n",
       "      <th>stop</th>\n",
       "      <th>motif</th>\n",
       "      <th>LocusId</th>\n",
       "      <th>LocusStructure</th>\n",
       "      <th>ReferenceRegion</th>\n",
       "      <th>VariantId</th>\n",
       "      <th>VariantType</th>\n",
       "      <th>name</th>\n",
       "      <th>...</th>\n",
       "      <th>copyNum</th>\n",
       "      <th>consensusSize</th>\n",
       "      <th>perMatch</th>\n",
       "      <th>perIndel</th>\n",
       "      <th>score</th>\n",
       "      <th>A</th>\n",
       "      <th>C</th>\n",
       "      <th>G</th>\n",
       "      <th>T</th>\n",
       "      <th>entropy</th>\n",
       "    </tr>\n",
       "  </thead>\n",
       "  <tbody>\n",
       "    <tr>\n",
       "      <th>0</th>\n",
       "      <td>chr1</td>\n",
       "      <td>13417</td>\n",
       "      <td>13421</td>\n",
       "      <td>GA</td>\n",
       "      <td>chr1_13417_13421</td>\n",
       "      <td>(GA)*</td>\n",
       "      <td>chr1:13417-13421</td>\n",
       "      <td>chr1_13417_13421</td>\n",
       "      <td>Repeat</td>\n",
       "      <td>novel</td>\n",
       "      <td>...</td>\n",
       "      <td>NaN</td>\n",
       "      <td>NaN</td>\n",
       "      <td>NaN</td>\n",
       "      <td>NaN</td>\n",
       "      <td>NaN</td>\n",
       "      <td>NaN</td>\n",
       "      <td>NaN</td>\n",
       "      <td>NaN</td>\n",
       "      <td>NaN</td>\n",
       "      <td>NaN</td>\n",
       "    </tr>\n",
       "    <tr>\n",
       "      <th>1</th>\n",
       "      <td>chr1</td>\n",
       "      <td>15240</td>\n",
       "      <td>15252</td>\n",
       "      <td>GGGCCA</td>\n",
       "      <td>chr1_15240_15252</td>\n",
       "      <td>(GGGCCA)*</td>\n",
       "      <td>chr1:15240-15252</td>\n",
       "      <td>chr1_15240_15252</td>\n",
       "      <td>Repeat</td>\n",
       "      <td>novel</td>\n",
       "      <td>...</td>\n",
       "      <td>NaN</td>\n",
       "      <td>NaN</td>\n",
       "      <td>NaN</td>\n",
       "      <td>NaN</td>\n",
       "      <td>NaN</td>\n",
       "      <td>NaN</td>\n",
       "      <td>NaN</td>\n",
       "      <td>NaN</td>\n",
       "      <td>NaN</td>\n",
       "      <td>NaN</td>\n",
       "    </tr>\n",
       "    <tr>\n",
       "      <th>2</th>\n",
       "      <td>chr1</td>\n",
       "      <td>16712</td>\n",
       "      <td>16727</td>\n",
       "      <td>TGG</td>\n",
       "      <td>chr1_16712_16727</td>\n",
       "      <td>(TGG)*</td>\n",
       "      <td>chr1:16712-16727</td>\n",
       "      <td>chr1_16712_16727</td>\n",
       "      <td>Repeat</td>\n",
       "      <td>novel</td>\n",
       "      <td>...</td>\n",
       "      <td>NaN</td>\n",
       "      <td>NaN</td>\n",
       "      <td>NaN</td>\n",
       "      <td>NaN</td>\n",
       "      <td>NaN</td>\n",
       "      <td>NaN</td>\n",
       "      <td>NaN</td>\n",
       "      <td>NaN</td>\n",
       "      <td>NaN</td>\n",
       "      <td>NaN</td>\n",
       "    </tr>\n",
       "    <tr>\n",
       "      <th>3</th>\n",
       "      <td>chr1</td>\n",
       "      <td>30867</td>\n",
       "      <td>30891</td>\n",
       "      <td>CT</td>\n",
       "      <td>chr1_30867_30891</td>\n",
       "      <td>(CT)*</td>\n",
       "      <td>chr1:30867-30891</td>\n",
       "      <td>chr1_30867_30891</td>\n",
       "      <td>Repeat</td>\n",
       "      <td>novel</td>\n",
       "      <td>...</td>\n",
       "      <td>NaN</td>\n",
       "      <td>NaN</td>\n",
       "      <td>NaN</td>\n",
       "      <td>NaN</td>\n",
       "      <td>NaN</td>\n",
       "      <td>NaN</td>\n",
       "      <td>NaN</td>\n",
       "      <td>NaN</td>\n",
       "      <td>NaN</td>\n",
       "      <td>NaN</td>\n",
       "    </tr>\n",
       "    <tr>\n",
       "      <th>4</th>\n",
       "      <td>chr1</td>\n",
       "      <td>31555</td>\n",
       "      <td>31570</td>\n",
       "      <td>AAAAT</td>\n",
       "      <td>chr1_31555_31570</td>\n",
       "      <td>(AAAAT)*</td>\n",
       "      <td>chr1:31555-31570</td>\n",
       "      <td>chr1_31555_31570</td>\n",
       "      <td>Repeat</td>\n",
       "      <td>novel</td>\n",
       "      <td>...</td>\n",
       "      <td>NaN</td>\n",
       "      <td>NaN</td>\n",
       "      <td>NaN</td>\n",
       "      <td>NaN</td>\n",
       "      <td>NaN</td>\n",
       "      <td>NaN</td>\n",
       "      <td>NaN</td>\n",
       "      <td>NaN</td>\n",
       "      <td>NaN</td>\n",
       "      <td>NaN</td>\n",
       "    </tr>\n",
       "    <tr>\n",
       "      <th>...</th>\n",
       "      <td>...</td>\n",
       "      <td>...</td>\n",
       "      <td>...</td>\n",
       "      <td>...</td>\n",
       "      <td>...</td>\n",
       "      <td>...</td>\n",
       "      <td>...</td>\n",
       "      <td>...</td>\n",
       "      <td>...</td>\n",
       "      <td>...</td>\n",
       "      <td>...</td>\n",
       "      <td>...</td>\n",
       "      <td>...</td>\n",
       "      <td>...</td>\n",
       "      <td>...</td>\n",
       "      <td>...</td>\n",
       "      <td>...</td>\n",
       "      <td>...</td>\n",
       "      <td>...</td>\n",
       "      <td>...</td>\n",
       "      <td>...</td>\n",
       "    </tr>\n",
       "    <tr>\n",
       "      <th>504145</th>\n",
       "      <td>chrY</td>\n",
       "      <td>57181121</td>\n",
       "      <td>57181156</td>\n",
       "      <td>TTTC</td>\n",
       "      <td>NaN</td>\n",
       "      <td>NaN</td>\n",
       "      <td>NaN</td>\n",
       "      <td>NaN</td>\n",
       "      <td>NaN</td>\n",
       "      <td>trf</td>\n",
       "      <td>...</td>\n",
       "      <td>8.8</td>\n",
       "      <td>4.0</td>\n",
       "      <td>90.0</td>\n",
       "      <td>9.0</td>\n",
       "      <td>54.0</td>\n",
       "      <td>0.0</td>\n",
       "      <td>20.0</td>\n",
       "      <td>0.0</td>\n",
       "      <td>80.0</td>\n",
       "      <td>0.72</td>\n",
       "    </tr>\n",
       "    <tr>\n",
       "      <th>504146</th>\n",
       "      <td>chrY</td>\n",
       "      <td>57196645</td>\n",
       "      <td>57196678</td>\n",
       "      <td>GCA</td>\n",
       "      <td>NaN</td>\n",
       "      <td>NaN</td>\n",
       "      <td>NaN</td>\n",
       "      <td>NaN</td>\n",
       "      <td>NaN</td>\n",
       "      <td>trf</td>\n",
       "      <td>...</td>\n",
       "      <td>11.0</td>\n",
       "      <td>3.0</td>\n",
       "      <td>93.0</td>\n",
       "      <td>0.0</td>\n",
       "      <td>57.0</td>\n",
       "      <td>33.0</td>\n",
       "      <td>30.0</td>\n",
       "      <td>36.0</td>\n",
       "      <td>0.0</td>\n",
       "      <td>1.58</td>\n",
       "    </tr>\n",
       "    <tr>\n",
       "      <th>504147</th>\n",
       "      <td>chrY</td>\n",
       "      <td>57202846</td>\n",
       "      <td>57202903</td>\n",
       "      <td>CAAAAA</td>\n",
       "      <td>NaN</td>\n",
       "      <td>NaN</td>\n",
       "      <td>NaN</td>\n",
       "      <td>NaN</td>\n",
       "      <td>NaN</td>\n",
       "      <td>trf</td>\n",
       "      <td>...</td>\n",
       "      <td>9.7</td>\n",
       "      <td>6.0</td>\n",
       "      <td>83.0</td>\n",
       "      <td>11.0</td>\n",
       "      <td>57.0</td>\n",
       "      <td>85.0</td>\n",
       "      <td>10.0</td>\n",
       "      <td>1.0</td>\n",
       "      <td>1.0</td>\n",
       "      <td>0.73</td>\n",
       "    </tr>\n",
       "    <tr>\n",
       "      <th>504148</th>\n",
       "      <td>chrY</td>\n",
       "      <td>57217316</td>\n",
       "      <td>57217414</td>\n",
       "      <td>GGGTGT</td>\n",
       "      <td>NaN</td>\n",
       "      <td>NaN</td>\n",
       "      <td>NaN</td>\n",
       "      <td>NaN</td>\n",
       "      <td>NaN</td>\n",
       "      <td>trf</td>\n",
       "      <td>...</td>\n",
       "      <td>16.3</td>\n",
       "      <td>6.0</td>\n",
       "      <td>82.0</td>\n",
       "      <td>17.0</td>\n",
       "      <td>116.0</td>\n",
       "      <td>0.0</td>\n",
       "      <td>0.0</td>\n",
       "      <td>63.0</td>\n",
       "      <td>36.0</td>\n",
       "      <td>0.95</td>\n",
       "    </tr>\n",
       "    <tr>\n",
       "      <th>504149</th>\n",
       "      <td>chrY</td>\n",
       "      <td>57217318</td>\n",
       "      <td>57217413</td>\n",
       "      <td>GT</td>\n",
       "      <td>NaN</td>\n",
       "      <td>NaN</td>\n",
       "      <td>NaN</td>\n",
       "      <td>NaN</td>\n",
       "      <td>NaN</td>\n",
       "      <td>trf</td>\n",
       "      <td>...</td>\n",
       "      <td>49.5</td>\n",
       "      <td>2.0</td>\n",
       "      <td>73.0</td>\n",
       "      <td>8.0</td>\n",
       "      <td>81.0</td>\n",
       "      <td>0.0</td>\n",
       "      <td>0.0</td>\n",
       "      <td>62.0</td>\n",
       "      <td>37.0</td>\n",
       "      <td>0.96</td>\n",
       "    </tr>\n",
       "  </tbody>\n",
       "</table>\n",
       "<p>504150 rows × 25 columns</p>\n",
       "</div>"
      ],
      "text/plain": [
       "         chr     start      stop   motif           LocusId LocusStructure  \\\n",
       "0       chr1     13417     13421      GA  chr1_13417_13421          (GA)*   \n",
       "1       chr1     15240     15252  GGGCCA  chr1_15240_15252      (GGGCCA)*   \n",
       "2       chr1     16712     16727     TGG  chr1_16712_16727         (TGG)*   \n",
       "3       chr1     30867     30891      CT  chr1_30867_30891          (CT)*   \n",
       "4       chr1     31555     31570   AAAAT  chr1_31555_31570       (AAAAT)*   \n",
       "...      ...       ...       ...     ...               ...            ...   \n",
       "504145  chrY  57181121  57181156    TTTC               NaN            NaN   \n",
       "504146  chrY  57196645  57196678     GCA               NaN            NaN   \n",
       "504147  chrY  57202846  57202903  CAAAAA               NaN            NaN   \n",
       "504148  chrY  57217316  57217414  GGGTGT               NaN            NaN   \n",
       "504149  chrY  57217318  57217413      GT               NaN            NaN   \n",
       "\n",
       "         ReferenceRegion         VariantId VariantType   name  ...  copyNum  \\\n",
       "0       chr1:13417-13421  chr1_13417_13421      Repeat  novel  ...      NaN   \n",
       "1       chr1:15240-15252  chr1_15240_15252      Repeat  novel  ...      NaN   \n",
       "2       chr1:16712-16727  chr1_16712_16727      Repeat  novel  ...      NaN   \n",
       "3       chr1:30867-30891  chr1_30867_30891      Repeat  novel  ...      NaN   \n",
       "4       chr1:31555-31570  chr1_31555_31570      Repeat  novel  ...      NaN   \n",
       "...                  ...               ...         ...    ...  ...      ...   \n",
       "504145               NaN               NaN         NaN    trf  ...      8.8   \n",
       "504146               NaN               NaN         NaN    trf  ...     11.0   \n",
       "504147               NaN               NaN         NaN    trf  ...      9.7   \n",
       "504148               NaN               NaN         NaN    trf  ...     16.3   \n",
       "504149               NaN               NaN         NaN    trf  ...     49.5   \n",
       "\n",
       "       consensusSize  perMatch  perIndel  score     A     C     G     T  \\\n",
       "0                NaN       NaN       NaN    NaN   NaN   NaN   NaN   NaN   \n",
       "1                NaN       NaN       NaN    NaN   NaN   NaN   NaN   NaN   \n",
       "2                NaN       NaN       NaN    NaN   NaN   NaN   NaN   NaN   \n",
       "3                NaN       NaN       NaN    NaN   NaN   NaN   NaN   NaN   \n",
       "4                NaN       NaN       NaN    NaN   NaN   NaN   NaN   NaN   \n",
       "...              ...       ...       ...    ...   ...   ...   ...   ...   \n",
       "504145           4.0      90.0       9.0   54.0   0.0  20.0   0.0  80.0   \n",
       "504146           3.0      93.0       0.0   57.0  33.0  30.0  36.0   0.0   \n",
       "504147           6.0      83.0      11.0   57.0  85.0  10.0   1.0   1.0   \n",
       "504148           6.0      82.0      17.0  116.0   0.0   0.0  63.0  36.0   \n",
       "504149           2.0      73.0       8.0   81.0   0.0   0.0  62.0  37.0   \n",
       "\n",
       "        entropy  \n",
       "0           NaN  \n",
       "1           NaN  \n",
       "2           NaN  \n",
       "3           NaN  \n",
       "4           NaN  \n",
       "...         ...  \n",
       "504145     0.72  \n",
       "504146     1.58  \n",
       "504147     0.73  \n",
       "504148     0.95  \n",
       "504149     0.96  \n",
       "\n",
       "[504150 rows x 25 columns]"
      ]
     },
     "execution_count": 17,
     "metadata": {},
     "output_type": "execute_result"
    }
   ],
   "source": [
    "catalogs"
   ]
  },
  {
   "cell_type": "code",
   "execution_count": 18,
   "metadata": {},
   "outputs": [
    {
     "data": {
      "text/plain": [
       "(381, 377)"
      ]
     },
     "execution_count": 18,
     "metadata": {},
     "output_type": "execute_result"
    }
   ],
   "source": [
    "novel['rep_motif'].nunique(), trf['rep_motif'].nunique()"
   ]
  },
  {
   "cell_type": "code",
   "execution_count": 19,
   "metadata": {},
   "outputs": [],
   "source": [
    "novel_counts = dict(novel.groupby('rep_motif').size())\n",
    "trf_counts = dict(trf.groupby('rep_motif').size())"
   ]
  },
  {
   "cell_type": "code",
   "execution_count": 20,
   "metadata": {},
   "outputs": [
    {
     "data": {
      "text/plain": [
       "(270884, 233266)"
      ]
     },
     "execution_count": 20,
     "metadata": {},
     "output_type": "execute_result"
    }
   ],
   "source": [
    "all_motifs = catalogs['rep_motif'].unique()\n",
    "novel_total = len(novel)\n",
    "trf_total = len(trf)\n",
    "novel_total, trf_total"
   ]
  },
  {
   "cell_type": "code",
   "execution_count": 21,
   "metadata": {},
   "outputs": [],
   "source": [
    "p_enriched_all = []\n",
    "p_depleted_all = []\n",
    "n_novel = []\n",
    "n_trf = []\n",
    "motifs_to_remove = []\n",
    "for i in range(len(all_motifs)):\n",
    "    motif = all_motifs[i]\n",
    "    novel_count = novel_counts[motif] if motif in novel_counts else 0\n",
    "    trf_count = trf_counts[motif] if motif in trf_counts else 0\n",
    "    n_novel.append(novel_count)\n",
    "    n_trf.append(trf_count)\n",
    "    \n",
    "    if min(novel_count, trf_count) < 100:\n",
    "        motifs_to_remove.append(i)\n",
    "    \n",
    "    table = [[novel_count, novel_total - novel_count],\n",
    "             [trf_count, trf_total - trf_count]]\n",
    "    odds_ratio, p_enriched = stats.fisher_exact(table, 'greater')\n",
    "    odds_ratio, p_depleted = stats.fisher_exact(table, 'less')\n",
    "    \n",
    "    p_enriched_all.append(p_enriched)\n",
    "    p_depleted_all.append(p_depleted)"
   ]
  },
  {
   "cell_type": "code",
   "execution_count": 22,
   "metadata": {},
   "outputs": [],
   "source": [
    "data = pd.DataFrame({\n",
    "    'rep_motif': list(all_motifs),\n",
    "    'p_enriched': p_enriched_all,\n",
    "    'p_depleted': p_depleted_all,\n",
    "    'n_novel': n_novel,\n",
    "    'n_trf': n_trf,\n",
    "})\n",
    "\n",
    "data = data.drop(motifs_to_remove, axis='rows')"
   ]
  },
  {
   "cell_type": "code",
   "execution_count": 23,
   "metadata": {},
   "outputs": [],
   "source": [
    "data['q_enriched'] = fdr(data['p_enriched'])\n",
    "data['q_depleted'] = fdr(data['p_depleted'])"
   ]
  },
  {
   "cell_type": "code",
   "execution_count": 24,
   "metadata": {},
   "outputs": [
    {
     "data": {
      "text/plain": [
       "(0.0, 0.0)"
      ]
     },
     "execution_count": 24,
     "metadata": {},
     "output_type": "execute_result"
    }
   ],
   "source": [
    "data['q_enriched'].min(), data['q_depleted'].min()"
   ]
  },
  {
   "cell_type": "code",
   "execution_count": 25,
   "metadata": {},
   "outputs": [],
   "source": [
    "thresh = 0.05\n",
    "sig = data[(data['q_enriched'] < thresh) & (data['q_depleted'] < thresh)]\n",
    "enriched_sig = data[data['q_enriched'] < thresh]\n",
    "depleted_sig = data[data['q_depleted'] < thresh]"
   ]
  },
  {
   "cell_type": "code",
   "execution_count": 26,
   "metadata": {},
   "outputs": [
    {
     "data": {
      "text/plain": [
       "(16, 31)"
      ]
     },
     "execution_count": 26,
     "metadata": {},
     "output_type": "execute_result"
    }
   ],
   "source": [
    "len(enriched_sig), len(depleted_sig)"
   ]
  },
  {
   "cell_type": "code",
   "execution_count": 27,
   "metadata": {},
   "outputs": [
    {
     "data": {
      "text/plain": [
       "'AG, ACC, AC, AT, ACAT, AATGG, AAATG, CCG, ACAG, ACCC, ACTC, AGGC, AAGC, ACCT, AATAT, AATT'"
      ]
     },
     "execution_count": 27,
     "metadata": {},
     "output_type": "execute_result"
    }
   ],
   "source": [
    "', '.join(enriched_sig['rep_motif'])"
   ]
  },
  {
   "cell_type": "code",
   "execution_count": 28,
   "metadata": {},
   "outputs": [
    {
     "data": {
      "text/plain": [
       "'AAAAT, AAAT, AAAG, AAAAG, AAAAC, AAGG, AGGG, AGAT, ATCC, AGG, AGGGG, ACAGAG, AATG, AAAAAC, AACC, AAC, AGAGG, AGAGGG, ACCATC, ACATAT, AAAAAG, AAATT, ATC, AAAGAG, ACACAT, AGGGGG, AAAGG, AAGGAG, AAAAAT, AAGGG, AGATAT'"
      ]
     },
     "execution_count": 28,
     "metadata": {},
     "output_type": "execute_result"
    }
   ],
   "source": [
    "', '.join(depleted_sig['rep_motif'])"
   ]
  },
  {
   "cell_type": "code",
   "execution_count": 29,
   "metadata": {},
   "outputs": [
    {
     "data": {
      "text/plain": [
       "(3.6875, 4.0)"
      ]
     },
     "execution_count": 29,
     "metadata": {},
     "output_type": "execute_result"
    }
   ],
   "source": [
    "enriched_sig['rep_motif'].str.len().mean(), enriched_sig['rep_motif'].str.len().median()"
   ]
  },
  {
   "cell_type": "code",
   "execution_count": 30,
   "metadata": {},
   "outputs": [
    {
     "data": {
      "text/plain": [
       "(4.935483870967742, 5.0)"
      ]
     },
     "execution_count": 30,
     "metadata": {},
     "output_type": "execute_result"
    }
   ],
   "source": [
    "depleted_sig['rep_motif'].str.len().mean(), depleted_sig['rep_motif'].str.len().median()"
   ]
  },
  {
   "cell_type": "code",
   "execution_count": 32,
   "metadata": {},
   "outputs": [
    {
     "data": {
      "text/plain": [
       "Ttest_indResult(statistic=-3.974535940212153, pvalue=0.00039440312907680484)"
      ]
     },
     "execution_count": 32,
     "metadata": {},
     "output_type": "execute_result"
    }
   ],
   "source": [
    "stats.ttest_ind(enriched_sig['rep_motif'].str.len(), depleted_sig['rep_motif'].str.len(), equal_var=False)"
   ]
  },
  {
   "cell_type": "code",
   "execution_count": 33,
   "metadata": {},
   "outputs": [
    {
     "data": {
      "text/plain": [
       "Ttest_indResult(statistic=0.8142860871073154, pvalue=0.42286637476081124)"
      ]
     },
     "execution_count": 33,
     "metadata": {},
     "output_type": "execute_result"
    }
   ],
   "source": [
    "stats.ttest_ind(enriched_sig['rep_motif'].apply(get_motif_gc_content), depleted_sig['rep_motif'].apply(get_motif_gc_content), equal_var=False)"
   ]
  },
  {
   "cell_type": "code",
   "execution_count": 34,
   "metadata": {},
   "outputs": [
    {
     "data": {
      "text/plain": [
       "Ttest_indResult(statistic=12.292362652265492, pvalue=1.0071796312225274e-34)"
      ]
     },
     "execution_count": 34,
     "metadata": {},
     "output_type": "execute_result"
    }
   ],
   "source": [
    "stats.ttest_ind(novel['rep_motif'].apply(get_motif_gc_content), trf['rep_motif'].apply(get_motif_gc_content), equal_var=False)"
   ]
  },
  {
   "cell_type": "code",
   "execution_count": 35,
   "metadata": {},
   "outputs": [
    {
     "data": {
      "text/plain": [
       "Ttest_indResult(statistic=-119.05456043883657, pvalue=0.0)"
      ]
     },
     "execution_count": 35,
     "metadata": {},
     "output_type": "execute_result"
    }
   ],
   "source": [
    "stats.ttest_ind(novel['rep_motif'].str.len(), trf['rep_motif'].str.len(), equal_var=False)"
   ]
  },
  {
   "cell_type": "code",
   "execution_count": 154,
   "metadata": {},
   "outputs": [],
   "source": [
    "# to_predict = []\n",
    "# for motif in sig['motif']:\n",
    "#     novel_periods = novel.loc[novel['motif'] == motif, 'period']\n",
    "#     trf_periods = list(trf.loc[trf['motif'] == motif, 'period'])\n",
    "# #     periods = set(novel_periods + trf_periods)\n",
    "# #     periods = set(novel_periods)\n",
    "# #     for p in periods:\n",
    "# #         to_predict.append(motif * p)\n",
    "#     to_predict.append(motif * int(novel_periods.median()))"
   ]
  },
  {
   "cell_type": "code",
   "execution_count": 38,
   "metadata": {},
   "outputs": [
    {
     "data": {
      "text/plain": [
       "Text(0, 0.5, 'Fold Change')"
      ]
     },
     "execution_count": 38,
     "metadata": {},
     "output_type": "execute_result"
    },
    {
     "data": {
      "image/png": "[encoded data removed]",
      "text/plain": [
       "<Figure size 576x432 with 1 Axes>"
      ]
     },
     "metadata": {
      "needs_background": "light"
     },
     "output_type": "display_data"
    }
   ],
   "source": [
    "enriched = True\n",
    "\n",
    "sig = enriched_sig.copy() if enriched else depleted_sig.copy()\n",
    "\n",
    "sig = sig.head(20)\n",
    "\n",
    "# novel_subset = novel[novel['motif'].isin(sig['motif'])]\n",
    "# novel_pct_df = pd.DataFrame(novel_subset.groupby(['motif']).size() / len(novel)).reset_index()\n",
    "# novel_pct_df = novel_pct_df.rename({0: 'percentage'}, axis='columns')\n",
    "# novel_pct_df['name'] = 'novel'\n",
    "\n",
    "# trf_subset = trf[trf['motif'].isin(sig['motif'])]\n",
    "# trf_pct_df = pd.DataFrame(trf_subset.groupby(['motif']).size() / len(trf)).reset_index()\n",
    "# trf_pct_df = trf_pct_df.rename({0: 'percentage'}, axis='columns')\n",
    "# trf_pct_df['name'] = 'trf'\n",
    "\n",
    "sig['pct_novel'] = sig['n_novel'] / len(novel)\n",
    "sig['pct_trf'] = sig['n_trf'] / len(trf)\n",
    "sig['metric'] = (sig['pct_novel'] / sig['pct_trf'])\n",
    "\n",
    "# pct_df = pd.concat([novel_pct_df, trf_pct_df], ignore_index=True)\n",
    "# pct_df['motif_len'] = pct_df['motif'].str.len()\n",
    "# pct_df = pct_df.sort_values(['motif_len', 'motif'], ignore_index=True)\n",
    "\n",
    "sig = sig.sort_values(['metric'], ignore_index=True, ascending=False if enriched else True)\n",
    "\n",
    "\n",
    "fig, ax = plt.subplots(figsize=(8, 6))\n",
    "# ax = sns.barplot(x=\"motif\", y=\"metric\", hue=\"name\", data=pct_df, ax=ax)\n",
    "ax = sns.barplot(x=\"rep_motif\", y=\"metric\", data=sig, ax=ax, color='purple')\n",
    "ax.set_xticklabels(ax.get_xticklabels(), rotation=90, fontsize=10)\n",
    "ax.set_xlabel(('Enriched Motifs' if enriched else 'Top 20 Depleted Motifs') + ' (FDR-corrected p < 0.05)')\n",
    "ax.set_ylabel('Fold Change')"
   ]
  },
  {
   "cell_type": "code",
   "execution_count": 41,
   "metadata": {},
   "outputs": [
    {
     "data": {
      "text/plain": [
       "<AxesSubplot:xlabel='Change', ylabel='Motif Length'>"
      ]
     },
     "execution_count": 41,
     "metadata": {},
     "output_type": "execute_result"
    },
    {
     "data": {
      "image/png": "[encoded data removed]",
      "text/plain": [
       "<Figure size 432x288 with 1 Axes>"
      ]
     },
     "metadata": {
      "needs_background": "light"
     },
     "output_type": "display_data"
    }
   ],
   "source": [
    "enriched_sig['Motif Length'] = enriched_sig['rep_motif'].str.len()\n",
    "depleted_sig['Motif Length'] = depleted_sig['rep_motif'].str.len()\n",
    "enriched_sig['Change'] = 'Enriched'\n",
    "depleted_sig['Change'] = 'Depleted'\n",
    "data = pd.concat([enriched_sig, depleted_sig], ignore_index=True)\n",
    "\n",
    "sns.violinplot(x='Change', y='Motif Length', data=data)"
   ]
  },
  {
   "cell_type": "code",
   "execution_count": 85,
   "metadata": {},
   "outputs": [
    {
     "data": {
      "text/html": [
       "<div>\n",
       "<style scoped>\n",
       "    .dataframe tbody tr th:only-of-type {\n",
       "        vertical-align: middle;\n",
       "    }\n",
       "\n",
       "    .dataframe tbody tr th {\n",
       "        vertical-align: top;\n",
       "    }\n",
       "\n",
       "    .dataframe thead th {\n",
       "        text-align: right;\n",
       "    }\n",
       "</style>\n",
       "<table border=\"1\" class=\"dataframe\">\n",
       "  <thead>\n",
       "    <tr style=\"text-align: right;\">\n",
       "      <th></th>\n",
       "      <th>motif</th>\n",
       "      <th>name</th>\n",
       "      <th>0</th>\n",
       "    </tr>\n",
       "  </thead>\n",
       "  <tbody>\n",
       "    <tr>\n",
       "      <th>0</th>\n",
       "      <td>AAAAAC</td>\n",
       "      <td>novel</td>\n",
       "      <td>1064</td>\n",
       "    </tr>\n",
       "    <tr>\n",
       "      <th>1</th>\n",
       "      <td>AAAAAC</td>\n",
       "      <td>trf</td>\n",
       "      <td>4558</td>\n",
       "    </tr>\n",
       "    <tr>\n",
       "      <th>2</th>\n",
       "      <td>AAAAC</td>\n",
       "      <td>novel</td>\n",
       "      <td>4711</td>\n",
       "    </tr>\n",
       "    <tr>\n",
       "      <th>3</th>\n",
       "      <td>AAAAC</td>\n",
       "      <td>trf</td>\n",
       "      <td>9920</td>\n",
       "    </tr>\n",
       "    <tr>\n",
       "      <th>4</th>\n",
       "      <td>AAAAG</td>\n",
       "      <td>novel</td>\n",
       "      <td>2856</td>\n",
       "    </tr>\n",
       "    <tr>\n",
       "      <th>5</th>\n",
       "      <td>AAAAG</td>\n",
       "      <td>trf</td>\n",
       "      <td>4539</td>\n",
       "    </tr>\n",
       "    <tr>\n",
       "      <th>6</th>\n",
       "      <td>AAAAT</td>\n",
       "      <td>novel</td>\n",
       "      <td>4327</td>\n",
       "    </tr>\n",
       "    <tr>\n",
       "      <th>7</th>\n",
       "      <td>AAAAT</td>\n",
       "      <td>trf</td>\n",
       "      <td>7068</td>\n",
       "    </tr>\n",
       "    <tr>\n",
       "      <th>8</th>\n",
       "      <td>AAAG</td>\n",
       "      <td>novel</td>\n",
       "      <td>12170</td>\n",
       "    </tr>\n",
       "    <tr>\n",
       "      <th>9</th>\n",
       "      <td>AAAG</td>\n",
       "      <td>trf</td>\n",
       "      <td>12311</td>\n",
       "    </tr>\n",
       "    <tr>\n",
       "      <th>10</th>\n",
       "      <td>AAAT</td>\n",
       "      <td>novel</td>\n",
       "      <td>18253</td>\n",
       "    </tr>\n",
       "    <tr>\n",
       "      <th>11</th>\n",
       "      <td>AAAT</td>\n",
       "      <td>trf</td>\n",
       "      <td>20157</td>\n",
       "    </tr>\n",
       "    <tr>\n",
       "      <th>12</th>\n",
       "      <td>AAC</td>\n",
       "      <td>novel</td>\n",
       "      <td>3658</td>\n",
       "    </tr>\n",
       "    <tr>\n",
       "      <th>13</th>\n",
       "      <td>AAC</td>\n",
       "      <td>trf</td>\n",
       "      <td>3622</td>\n",
       "    </tr>\n",
       "    <tr>\n",
       "      <th>14</th>\n",
       "      <td>AACC</td>\n",
       "      <td>novel</td>\n",
       "      <td>222</td>\n",
       "    </tr>\n",
       "    <tr>\n",
       "      <th>15</th>\n",
       "      <td>AACC</td>\n",
       "      <td>trf</td>\n",
       "      <td>253</td>\n",
       "    </tr>\n",
       "    <tr>\n",
       "      <th>16</th>\n",
       "      <td>AAGG</td>\n",
       "      <td>novel</td>\n",
       "      <td>8366</td>\n",
       "    </tr>\n",
       "    <tr>\n",
       "      <th>17</th>\n",
       "      <td>AAGG</td>\n",
       "      <td>trf</td>\n",
       "      <td>9627</td>\n",
       "    </tr>\n",
       "    <tr>\n",
       "      <th>18</th>\n",
       "      <td>AATG</td>\n",
       "      <td>novel</td>\n",
       "      <td>1736</td>\n",
       "    </tr>\n",
       "    <tr>\n",
       "      <th>19</th>\n",
       "      <td>AATG</td>\n",
       "      <td>trf</td>\n",
       "      <td>2128</td>\n",
       "    </tr>\n",
       "    <tr>\n",
       "      <th>20</th>\n",
       "      <td>ACAGAG</td>\n",
       "      <td>novel</td>\n",
       "      <td>149</td>\n",
       "    </tr>\n",
       "    <tr>\n",
       "      <th>21</th>\n",
       "      <td>ACAGAG</td>\n",
       "      <td>trf</td>\n",
       "      <td>244</td>\n",
       "    </tr>\n",
       "    <tr>\n",
       "      <th>22</th>\n",
       "      <td>ACATAT</td>\n",
       "      <td>novel</td>\n",
       "      <td>321</td>\n",
       "    </tr>\n",
       "    <tr>\n",
       "      <th>23</th>\n",
       "      <td>ACATAT</td>\n",
       "      <td>trf</td>\n",
       "      <td>435</td>\n",
       "    </tr>\n",
       "    <tr>\n",
       "      <th>24</th>\n",
       "      <td>ACCATC</td>\n",
       "      <td>novel</td>\n",
       "      <td>102</td>\n",
       "    </tr>\n",
       "    <tr>\n",
       "      <th>25</th>\n",
       "      <td>ACCATC</td>\n",
       "      <td>trf</td>\n",
       "      <td>194</td>\n",
       "    </tr>\n",
       "    <tr>\n",
       "      <th>26</th>\n",
       "      <td>AGAGG</td>\n",
       "      <td>novel</td>\n",
       "      <td>256</td>\n",
       "    </tr>\n",
       "    <tr>\n",
       "      <th>27</th>\n",
       "      <td>AGAGG</td>\n",
       "      <td>trf</td>\n",
       "      <td>416</td>\n",
       "    </tr>\n",
       "    <tr>\n",
       "      <th>28</th>\n",
       "      <td>AGAGGG</td>\n",
       "      <td>novel</td>\n",
       "      <td>565</td>\n",
       "    </tr>\n",
       "    <tr>\n",
       "      <th>29</th>\n",
       "      <td>AGAGGG</td>\n",
       "      <td>trf</td>\n",
       "      <td>1259</td>\n",
       "    </tr>\n",
       "    <tr>\n",
       "      <th>30</th>\n",
       "      <td>AGAT</td>\n",
       "      <td>novel</td>\n",
       "      <td>7191</td>\n",
       "    </tr>\n",
       "    <tr>\n",
       "      <th>31</th>\n",
       "      <td>AGAT</td>\n",
       "      <td>trf</td>\n",
       "      <td>6841</td>\n",
       "    </tr>\n",
       "    <tr>\n",
       "      <th>32</th>\n",
       "      <td>AGG</td>\n",
       "      <td>novel</td>\n",
       "      <td>1157</td>\n",
       "    </tr>\n",
       "    <tr>\n",
       "      <th>33</th>\n",
       "      <td>AGG</td>\n",
       "      <td>trf</td>\n",
       "      <td>1721</td>\n",
       "    </tr>\n",
       "    <tr>\n",
       "      <th>34</th>\n",
       "      <td>AGGG</td>\n",
       "      <td>novel</td>\n",
       "      <td>2898</td>\n",
       "    </tr>\n",
       "    <tr>\n",
       "      <th>35</th>\n",
       "      <td>AGGG</td>\n",
       "      <td>trf</td>\n",
       "      <td>2863</td>\n",
       "    </tr>\n",
       "    <tr>\n",
       "      <th>36</th>\n",
       "      <td>AGGGG</td>\n",
       "      <td>novel</td>\n",
       "      <td>574</td>\n",
       "    </tr>\n",
       "    <tr>\n",
       "      <th>37</th>\n",
       "      <td>AGGGG</td>\n",
       "      <td>trf</td>\n",
       "      <td>1231</td>\n",
       "    </tr>\n",
       "    <tr>\n",
       "      <th>38</th>\n",
       "      <td>ATCC</td>\n",
       "      <td>novel</td>\n",
       "      <td>2919</td>\n",
       "    </tr>\n",
       "    <tr>\n",
       "      <th>39</th>\n",
       "      <td>ATCC</td>\n",
       "      <td>trf</td>\n",
       "      <td>2800</td>\n",
       "    </tr>\n",
       "  </tbody>\n",
       "</table>\n",
       "</div>"
      ],
      "text/plain": [
       "     motif   name      0\n",
       "0   AAAAAC  novel   1064\n",
       "1   AAAAAC    trf   4558\n",
       "2    AAAAC  novel   4711\n",
       "3    AAAAC    trf   9920\n",
       "4    AAAAG  novel   2856\n",
       "5    AAAAG    trf   4539\n",
       "6    AAAAT  novel   4327\n",
       "7    AAAAT    trf   7068\n",
       "8     AAAG  novel  12170\n",
       "9     AAAG    trf  12311\n",
       "10    AAAT  novel  18253\n",
       "11    AAAT    trf  20157\n",
       "12     AAC  novel   3658\n",
       "13     AAC    trf   3622\n",
       "14    AACC  novel    222\n",
       "15    AACC    trf    253\n",
       "16    AAGG  novel   8366\n",
       "17    AAGG    trf   9627\n",
       "18    AATG  novel   1736\n",
       "19    AATG    trf   2128\n",
       "20  ACAGAG  novel    149\n",
       "21  ACAGAG    trf    244\n",
       "22  ACATAT  novel    321\n",
       "23  ACATAT    trf    435\n",
       "24  ACCATC  novel    102\n",
       "25  ACCATC    trf    194\n",
       "26   AGAGG  novel    256\n",
       "27   AGAGG    trf    416\n",
       "28  AGAGGG  novel    565\n",
       "29  AGAGGG    trf   1259\n",
       "30    AGAT  novel   7191\n",
       "31    AGAT    trf   6841\n",
       "32     AGG  novel   1157\n",
       "33     AGG    trf   1721\n",
       "34    AGGG  novel   2898\n",
       "35    AGGG    trf   2863\n",
       "36   AGGGG  novel    574\n",
       "37   AGGGG    trf   1231\n",
       "38    ATCC  novel   2919\n",
       "39    ATCC    trf   2800"
      ]
     },
     "execution_count": 85,
     "metadata": {},
     "output_type": "execute_result"
    }
   ],
   "source": [
    "subset = catalogs[catalogs['motif'].isin(sig['motif'])]\n",
    "pd.DataFrame(subset.groupby(['motif', 'name']).size()).reset_index()"
   ]
  },
  {
   "cell_type": "code",
   "execution_count": 134,
   "metadata": {},
   "outputs": [],
   "source": [
    "novel_subset = novel[novel['motif'].isin(sig['motif'])]\n",
    "novel_pct_df = pd.DataFrame(subset.groupby(['motif']).size() / len(novel)).reset_index()\n",
    "novel_pct_df = novel_pct_df.rename({0: 'percentage'}, axis='columns')\n",
    "novel_pct_df['name'] = 'novel'"
   ]
  },
  {
   "cell_type": "code",
   "execution_count": null,
   "metadata": {},
   "outputs": [],
   "source": [
    "novel_subset = novel[novel['motif'].isin(sig['motif'])]\n",
    "novel_pct_df = pd.DataFrame(subset.groupby(['motif']).size() / len(novel)).reset_index()\n",
    "novel_pct_df = novel_pct_df.rename({0: 'percentage'}, axis='columns')\n",
    "novel_pct_df['name'] = 'novel'"
   ]
  }
 ],
 "metadata": {
  "kernelspec": {
   "display_name": "jupyter",
   "language": "python",
   "name": "jupyter"
  },
  "language_info": {
   "codemirror_mode": {
    "name": "ipython",
    "version": 3
   },
   "file_extension": ".py",
   "mimetype": "text/x-python",
   "name": "python",
   "nbconvert_exporter": "python",
   "pygments_lexer": "ipython3",
   "version": "3.9.6"
  }
 },
 "nbformat": 4,
 "nbformat_minor": 4
}
