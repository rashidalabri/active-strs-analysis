{
 "cells": [
  {
   "cell_type": "code",
   "execution_count": 157,
   "metadata": {},
   "outputs": [],
   "source": [
    "import matplotlib\n",
    "import matplotlib.pyplot as plt\n",
    "import matplotlib.patches as mpatches\n",
    "from matplotlib.backends.backend_pdf import PdfPages\n",
    "\n",
    "import pandas as pd\n",
    "import seaborn as sns\n",
    "\n",
    "matplotlib.rcParams['pdf.fonttype'] = 42\n",
    "matplotlib.rcParams['ps.fonttype'] = 42\n",
    "\n",
    "sns.set_context('talk', font_scale=1)\n",
    "\n",
    "import numpy as np\n",
    "import scipy.stats as stats"
   ]
  },
  {
   "cell_type": "code",
   "execution_count": 100,
   "metadata": {},
   "outputs": [],
   "source": [
    "def fdr(p_vals):\n",
    "    ranked_p_values = stats.rankdata(p_vals)\n",
    "    fdr = p_vals * len(p_vals) / ranked_p_values\n",
    "    fdr[fdr > 1] = 1\n",
    "    return fdr"
   ]
  },
  {
   "cell_type": "code",
   "execution_count": 138,
   "metadata": {},
   "outputs": [],
   "source": [
    "novel = pd.read_csv('../../resources/catalog_tsv_standard/novel_v01.tsv', sep='\\t')\n",
    "trf = pd.read_csv('../../resources/catalog_tsv_standard/trf.tsv', sep='\\t')\n",
    "\n",
    "novel['name'] = 'novel'\n",
    "trf['name'] = 'trf'\n",
    "\n",
    "novel['period'] = ((novel['stop'] - novel['start']) / novel['motif'].str.len()).astype(int)\n",
    "trf['period'] = ((trf['stop'] - trf['start']) / trf['motif'].str.len()).astype(int)\n",
    "\n",
    "catalogs = pd.concat([novel, trf], ignore_index=True)"
   ]
  },
  {
   "cell_type": "code",
   "execution_count": 139,
   "metadata": {},
   "outputs": [],
   "source": [
    "novel_counts = dict(novel.groupby('motif').size())\n",
    "trf_counts = dict(trf.groupby('motif').size())"
   ]
  },
  {
   "cell_type": "code",
   "execution_count": 140,
   "metadata": {},
   "outputs": [
    {
     "data": {
      "text/plain": [
       "(270884, 233266)"
      ]
     },
     "execution_count": 140,
     "metadata": {},
     "output_type": "execute_result"
    }
   ],
   "source": [
    "all_motifs = catalogs['motif'].unique()\n",
    "novel_total = len(novel)\n",
    "trf_total = len(trf)\n",
    "novel_total, trf_total"
   ]
  },
  {
   "cell_type": "code",
   "execution_count": 141,
   "metadata": {},
   "outputs": [
    {
     "data": {
      "text/plain": [
       "32506.079999999998"
      ]
     },
     "execution_count": 141,
     "metadata": {},
     "output_type": "execute_result"
    }
   ],
   "source": [
    "270884 * 0.12"
   ]
  },
  {
   "cell_type": "code",
   "execution_count": 142,
   "metadata": {},
   "outputs": [],
   "source": [
    "p_enriched_all = []\n",
    "p_depleted_all = []\n",
    "n_novel = []\n",
    "n_trf = []\n",
    "motifs_to_remove = []\n",
    "for i in range(len(all_motifs)):\n",
    "    motif = all_motifs[i]\n",
    "    novel_count = novel_counts[motif] if motif in novel_counts else 0\n",
    "    trf_count = trf_counts[motif] if motif in trf_counts else 0\n",
    "    n_novel.append(novel_count)\n",
    "    n_trf.append(trf_count)\n",
    "    \n",
    "    if min(novel_count, trf_count) < 100:\n",
    "        motifs_to_remove.append(i)\n",
    "    \n",
    "    table = [[novel_count, novel_total - novel_count],\n",
    "             [trf_count, trf_total - trf_count]]\n",
    "    odds_ratio, p_enriched = stats.fisher_exact(table, 'greater')\n",
    "    odds_ratio, p_depleted = stats.fisher_exact(table, 'less')\n",
    "    \n",
    "    p_enriched_all.append(p_enriched)\n",
    "    p_depleted_all.append(p_depleted)"
   ]
  },
  {
   "cell_type": "code",
   "execution_count": 143,
   "metadata": {},
   "outputs": [],
   "source": [
    "data = pd.DataFrame({\n",
    "    'motif': list(all_motifs),\n",
    "    'p_enriched': p_enriched_all,\n",
    "    'p_depleted': p_depleted_all,\n",
    "    'n_novel': n_novel,\n",
    "    'n_trf': n_trf,\n",
    "})\n",
    "\n",
    "data = data.drop(motifs_to_remove, axis='rows')"
   ]
  },
  {
   "cell_type": "code",
   "execution_count": 144,
   "metadata": {},
   "outputs": [],
   "source": [
    "data['q_enriched'] = fdr(data['p_enriched'])\n",
    "data['q_depleted'] = fdr(data['p_depleted'])"
   ]
  },
  {
   "cell_type": "code",
   "execution_count": 145,
   "metadata": {},
   "outputs": [
    {
     "data": {
      "text/plain": [
       "(0.0, 3.0717641970669994e-205)"
      ]
     },
     "execution_count": 145,
     "metadata": {},
     "output_type": "execute_result"
    }
   ],
   "source": [
    "data['q_enriched'].min(), data['q_depleted'].min()"
   ]
  },
  {
   "cell_type": "code",
   "execution_count": 146,
   "metadata": {},
   "outputs": [],
   "source": [
    "thresh = 0.01\n",
    "sig = data[(data['q_enriched'] < thresh) & (data['q_depleted'] < thresh)]\n",
    "enriched_sig = data[data['q_enriched'] < thresh]\n",
    "depleted_sig = data[data['q_depleted'] < thresh]"
   ]
  },
  {
   "cell_type": "code",
   "execution_count": 147,
   "metadata": {},
   "outputs": [
    {
     "data": {
      "text/plain": [
       "(19, 85)"
      ]
     },
     "execution_count": 147,
     "metadata": {},
     "output_type": "execute_result"
    }
   ],
   "source": [
    "len(enriched_sig), len(depleted_sig)"
   ]
  },
  {
   "cell_type": "code",
   "execution_count": 148,
   "metadata": {},
   "outputs": [
    {
     "data": {
      "text/plain": [
       "'GA, CT, GT, AC, TA, TG, AG, GATA, TC, CA, AT, AGAC, AAAC, TTTG, TCTG, CAC, AACA, TAA, GAAAA'"
      ]
     },
     "execution_count": 148,
     "metadata": {},
     "output_type": "execute_result"
    }
   ],
   "source": [
    "', '.join(enriched_sig['motif'])"
   ]
  },
  {
   "cell_type": "code",
   "execution_count": 149,
   "metadata": {},
   "outputs": [
    {
     "data": {
      "text/plain": [
       "'AAAAT, AAAT, CTTT, AGAA, AAAG, CTTTT, TTTA, TATTT, AATA, TTTC, TTTTG, AAGG, GAGG, TCTT, AAAAC, GTTTT, CCT, TTTTA, AAG, AAT, TCC, AATG, AAAACA, TTCC, TGAA, ATTT, CAAA, AGGA, TTTTC, TCCA, GGA, TATT, ATGG, AAC, TTCTT, CCTT, TATC, TCCT, AGG, ATGA, CATT, TGTT, GTTT, TTTAT, ATAG, AGAT, TAGA, GGAA, AATAA, TGTTT, TTG, ATTC, TTGTT, GAAG, CTCC, CTC, AGGG, TTATT, TGT, TTCA, GAG, ACAAA, AAAAAC, AAACA, ATC, TTTGT, TTTTTG, TTTCT, AAAAG, CTTC, CTAT, CAAAA, ATAAA, ATTTT, TCTTT, TCA, TTTTGT, AAAAAG, ATG, AAAAAT, TAAAA, TTTTTC, CAAAAA, AACAA, GGGAGA'"
      ]
     },
     "execution_count": 149,
     "metadata": {},
     "output_type": "execute_result"
    }
   ],
   "source": [
    "', '.join(depleted_sig['motif'])"
   ]
  },
  {
   "cell_type": "code",
   "execution_count": 150,
   "metadata": {},
   "outputs": [
    {
     "data": {
      "text/plain": [
       "(2.8947368421052633, 2.0)"
      ]
     },
     "execution_count": 150,
     "metadata": {},
     "output_type": "execute_result"
    }
   ],
   "source": [
    "enriched_sig['motif'].str.len().mean(), enriched_sig['motif'].str.len().median()"
   ]
  },
  {
   "cell_type": "code",
   "execution_count": 151,
   "metadata": {},
   "outputs": [
    {
     "data": {
      "text/plain": [
       "(4.341176470588235, 4.0)"
      ]
     },
     "execution_count": 151,
     "metadata": {},
     "output_type": "execute_result"
    }
   ],
   "source": [
    "depleted_sig['motif'].str.len().mean(), depleted_sig['motif'].str.len().median()"
   ]
  },
  {
   "cell_type": "code",
   "execution_count": 152,
   "metadata": {},
   "outputs": [
    {
     "data": {
      "text/plain": [
       "Ttest_indResult(statistic=-5.588816691763787, pvalue=9.451381523740267e-06)"
      ]
     },
     "execution_count": 152,
     "metadata": {},
     "output_type": "execute_result"
    }
   ],
   "source": [
    "stats.ttest_ind(enriched_sig['motif'].str.len(), depleted_sig['motif'].str.len(), equal_var=False)"
   ]
  },
  {
   "cell_type": "code",
   "execution_count": 153,
   "metadata": {},
   "outputs": [
    {
     "data": {
      "text/plain": [
       "Ttest_indResult(statistic=-119.05456043883657, pvalue=0.0)"
      ]
     },
     "execution_count": 153,
     "metadata": {},
     "output_type": "execute_result"
    }
   ],
   "source": [
    "stats.ttest_ind(novel['motif'].str.len(), trf['motif'].str.len(), equal_var=False)"
   ]
  },
  {
   "cell_type": "code",
   "execution_count": 154,
   "metadata": {},
   "outputs": [],
   "source": [
    "# to_predict = []\n",
    "# for motif in sig['motif']:\n",
    "#     novel_periods = novel.loc[novel['motif'] == motif, 'period']\n",
    "#     trf_periods = list(trf.loc[trf['motif'] == motif, 'period'])\n",
    "# #     periods = set(novel_periods + trf_periods)\n",
    "# #     periods = set(novel_periods)\n",
    "# #     for p in periods:\n",
    "# #         to_predict.append(motif * p)\n",
    "#     to_predict.append(motif * int(novel_periods.median()))"
   ]
  },
  {
   "cell_type": "code",
   "execution_count": 168,
   "metadata": {},
   "outputs": [
    {
     "data": {
      "text/plain": [
       "Text(0, 0.5, 'Enrichement')"
      ]
     },
     "execution_count": 168,
     "metadata": {},
     "output_type": "execute_result"
    },
    {
     "data": {
      "image/png": "[encoded data removed]",
      "text/plain": [
       "<Figure size 576x432 with 1 Axes>"
      ]
     },
     "metadata": {
      "needs_background": "light"
     },
     "output_type": "display_data"
    }
   ],
   "source": [
    "enriched = True\n",
    "\n",
    "sig = enriched_sig.copy() if enriched else depleted_sig.copy()\n",
    "\n",
    "sig = sig.head(20)\n",
    "\n",
    "novel_subset = novel[novel['motif'].isin(sig['motif'])]\n",
    "novel_pct_df = pd.DataFrame(novel_subset.groupby(['motif']).size() / len(novel)).reset_index()\n",
    "novel_pct_df = novel_pct_df.rename({0: 'percentage'}, axis='columns')\n",
    "novel_pct_df['name'] = 'novel'\n",
    "\n",
    "trf_subset = trf[trf['motif'].isin(sig['motif'])]\n",
    "trf_pct_df = pd.DataFrame(trf_subset.groupby(['motif']).size() / len(trf)).reset_index()\n",
    "trf_pct_df = trf_pct_df.rename({0: 'percentage'}, axis='columns')\n",
    "trf_pct_df['name'] = 'trf'\n",
    "\n",
    "sig['pct_novel'] = sig['n_novel'] / len(novel)\n",
    "sig['pct_trf'] = sig['n_trf'] / len(trf)\n",
    "sig['metric'] = (sig['pct_novel'] / sig['pct_trf']) if enriched else (sig['pct_trf'] / sig['pct_novel'])\n",
    "\n",
    "pct_df = pd.concat([novel_pct_df, trf_pct_df], ignore_index=True)\n",
    "pct_df['motif_len'] = pct_df['motif'].str.len()\n",
    "pct_df = pct_df.sort_values(['motif_len', 'motif'], ignore_index=True)\n",
    "\n",
    "sig['motif_len'] = sig['motif'].str.len()\n",
    "sig = sig.sort_values(['metric', 'motif_len', 'motif'], ignore_index=True, ascending=False)\n",
    "\n",
    "\n",
    "fig, ax = plt.subplots(figsize=(8, 6))\n",
    "# ax = sns.barplot(x=\"motif\", y=\"metric\", hue=\"name\", data=pct_df, ax=ax)\n",
    "ax = sns.barplot(x=\"motif\", y=\"metric\", data=sig, ax=ax, color='purple')\n",
    "ax.set_xticklabels(ax.get_xticklabels(), rotation=90, fontsize=10)\n",
    "ax.set_xlabel('Motifs (FDR-corrected p < 0.01)')\n",
    "ax.set_ylabel('Enrichement' if enriched else 'Depletion')"
   ]
  },
  {
   "cell_type": "code",
   "execution_count": 132,
   "metadata": {},
   "outputs": [
    {
     "data": {
      "text/html": [
       "<div>\n",
       "<style scoped>\n",
       "    .dataframe tbody tr th:only-of-type {\n",
       "        vertical-align: middle;\n",
       "    }\n",
       "\n",
       "    .dataframe tbody tr th {\n",
       "        vertical-align: top;\n",
       "    }\n",
       "\n",
       "    .dataframe thead th {\n",
       "        text-align: right;\n",
       "    }\n",
       "</style>\n",
       "<table border=\"1\" class=\"dataframe\">\n",
       "  <thead>\n",
       "    <tr style=\"text-align: right;\">\n",
       "      <th></th>\n",
       "      <th>motif</th>\n",
       "      <th>name</th>\n",
       "      <th>0</th>\n",
       "    </tr>\n",
       "  </thead>\n",
       "  <tbody>\n",
       "    <tr>\n",
       "      <th>0</th>\n",
       "      <td>AAAC</td>\n",
       "      <td>novel</td>\n",
       "      <td>3724</td>\n",
       "    </tr>\n",
       "    <tr>\n",
       "      <th>1</th>\n",
       "      <td>AAAC</td>\n",
       "      <td>trf</td>\n",
       "      <td>2817</td>\n",
       "    </tr>\n",
       "    <tr>\n",
       "      <th>2</th>\n",
       "      <td>AACA</td>\n",
       "      <td>novel</td>\n",
       "      <td>276</td>\n",
       "    </tr>\n",
       "    <tr>\n",
       "      <th>3</th>\n",
       "      <td>AACA</td>\n",
       "      <td>trf</td>\n",
       "      <td>138</td>\n",
       "    </tr>\n",
       "    <tr>\n",
       "      <th>4</th>\n",
       "      <td>AC</td>\n",
       "      <td>novel</td>\n",
       "      <td>30118</td>\n",
       "    </tr>\n",
       "    <tr>\n",
       "      <th>5</th>\n",
       "      <td>AC</td>\n",
       "      <td>trf</td>\n",
       "      <td>23119</td>\n",
       "    </tr>\n",
       "    <tr>\n",
       "      <th>6</th>\n",
       "      <td>AG</td>\n",
       "      <td>novel</td>\n",
       "      <td>6895</td>\n",
       "    </tr>\n",
       "    <tr>\n",
       "      <th>7</th>\n",
       "      <td>AG</td>\n",
       "      <td>trf</td>\n",
       "      <td>3475</td>\n",
       "    </tr>\n",
       "    <tr>\n",
       "      <th>8</th>\n",
       "      <td>AGAC</td>\n",
       "      <td>novel</td>\n",
       "      <td>329</td>\n",
       "    </tr>\n",
       "    <tr>\n",
       "      <th>9</th>\n",
       "      <td>AGAC</td>\n",
       "      <td>trf</td>\n",
       "      <td>136</td>\n",
       "    </tr>\n",
       "    <tr>\n",
       "      <th>10</th>\n",
       "      <td>AT</td>\n",
       "      <td>novel</td>\n",
       "      <td>21501</td>\n",
       "    </tr>\n",
       "    <tr>\n",
       "      <th>11</th>\n",
       "      <td>AT</td>\n",
       "      <td>trf</td>\n",
       "      <td>11690</td>\n",
       "    </tr>\n",
       "    <tr>\n",
       "      <th>12</th>\n",
       "      <td>CA</td>\n",
       "      <td>novel</td>\n",
       "      <td>12284</td>\n",
       "    </tr>\n",
       "    <tr>\n",
       "      <th>13</th>\n",
       "      <td>CA</td>\n",
       "      <td>trf</td>\n",
       "      <td>9569</td>\n",
       "    </tr>\n",
       "    <tr>\n",
       "      <th>14</th>\n",
       "      <td>CAC</td>\n",
       "      <td>novel</td>\n",
       "      <td>228</td>\n",
       "    </tr>\n",
       "    <tr>\n",
       "      <th>15</th>\n",
       "      <td>CAC</td>\n",
       "      <td>trf</td>\n",
       "      <td>118</td>\n",
       "    </tr>\n",
       "    <tr>\n",
       "      <th>16</th>\n",
       "      <td>CT</td>\n",
       "      <td>novel</td>\n",
       "      <td>4094</td>\n",
       "    </tr>\n",
       "    <tr>\n",
       "      <th>17</th>\n",
       "      <td>CT</td>\n",
       "      <td>trf</td>\n",
       "      <td>1890</td>\n",
       "    </tr>\n",
       "    <tr>\n",
       "      <th>18</th>\n",
       "      <td>GA</td>\n",
       "      <td>novel</td>\n",
       "      <td>4224</td>\n",
       "    </tr>\n",
       "    <tr>\n",
       "      <th>19</th>\n",
       "      <td>GA</td>\n",
       "      <td>trf</td>\n",
       "      <td>2820</td>\n",
       "    </tr>\n",
       "    <tr>\n",
       "      <th>20</th>\n",
       "      <td>GAAAA</td>\n",
       "      <td>novel</td>\n",
       "      <td>287</td>\n",
       "    </tr>\n",
       "    <tr>\n",
       "      <th>21</th>\n",
       "      <td>GAAAA</td>\n",
       "      <td>trf</td>\n",
       "      <td>111</td>\n",
       "    </tr>\n",
       "    <tr>\n",
       "      <th>22</th>\n",
       "      <td>GATA</td>\n",
       "      <td>novel</td>\n",
       "      <td>1206</td>\n",
       "    </tr>\n",
       "    <tr>\n",
       "      <th>23</th>\n",
       "      <td>GATA</td>\n",
       "      <td>trf</td>\n",
       "      <td>632</td>\n",
       "    </tr>\n",
       "    <tr>\n",
       "      <th>24</th>\n",
       "      <td>GT</td>\n",
       "      <td>novel</td>\n",
       "      <td>17361</td>\n",
       "    </tr>\n",
       "    <tr>\n",
       "      <th>25</th>\n",
       "      <td>GT</td>\n",
       "      <td>trf</td>\n",
       "      <td>13551</td>\n",
       "    </tr>\n",
       "    <tr>\n",
       "      <th>26</th>\n",
       "      <td>TA</td>\n",
       "      <td>novel</td>\n",
       "      <td>22105</td>\n",
       "    </tr>\n",
       "    <tr>\n",
       "      <th>27</th>\n",
       "      <td>TA</td>\n",
       "      <td>trf</td>\n",
       "      <td>10806</td>\n",
       "    </tr>\n",
       "    <tr>\n",
       "      <th>28</th>\n",
       "      <td>TAA</td>\n",
       "      <td>novel</td>\n",
       "      <td>522</td>\n",
       "    </tr>\n",
       "    <tr>\n",
       "      <th>29</th>\n",
       "      <td>TAA</td>\n",
       "      <td>trf</td>\n",
       "      <td>347</td>\n",
       "    </tr>\n",
       "    <tr>\n",
       "      <th>30</th>\n",
       "      <td>TC</td>\n",
       "      <td>novel</td>\n",
       "      <td>8574</td>\n",
       "    </tr>\n",
       "    <tr>\n",
       "      <th>31</th>\n",
       "      <td>TC</td>\n",
       "      <td>trf</td>\n",
       "      <td>4374</td>\n",
       "    </tr>\n",
       "    <tr>\n",
       "      <th>32</th>\n",
       "      <td>TCTG</td>\n",
       "      <td>novel</td>\n",
       "      <td>390</td>\n",
       "    </tr>\n",
       "    <tr>\n",
       "      <th>33</th>\n",
       "      <td>TCTG</td>\n",
       "      <td>trf</td>\n",
       "      <td>113</td>\n",
       "    </tr>\n",
       "    <tr>\n",
       "      <th>34</th>\n",
       "      <td>TG</td>\n",
       "      <td>novel</td>\n",
       "      <td>26017</td>\n",
       "    </tr>\n",
       "    <tr>\n",
       "      <th>35</th>\n",
       "      <td>TG</td>\n",
       "      <td>trf</td>\n",
       "      <td>19537</td>\n",
       "    </tr>\n",
       "    <tr>\n",
       "      <th>36</th>\n",
       "      <td>TTTG</td>\n",
       "      <td>novel</td>\n",
       "      <td>3223</td>\n",
       "    </tr>\n",
       "    <tr>\n",
       "      <th>37</th>\n",
       "      <td>TTTG</td>\n",
       "      <td>trf</td>\n",
       "      <td>2180</td>\n",
       "    </tr>\n",
       "  </tbody>\n",
       "</table>\n",
       "</div>"
      ],
      "text/plain": [
       "    motif   name      0\n",
       "0    AAAC  novel   3724\n",
       "1    AAAC    trf   2817\n",
       "2    AACA  novel    276\n",
       "3    AACA    trf    138\n",
       "4      AC  novel  30118\n",
       "5      AC    trf  23119\n",
       "6      AG  novel   6895\n",
       "7      AG    trf   3475\n",
       "8    AGAC  novel    329\n",
       "9    AGAC    trf    136\n",
       "10     AT  novel  21501\n",
       "11     AT    trf  11690\n",
       "12     CA  novel  12284\n",
       "13     CA    trf   9569\n",
       "14    CAC  novel    228\n",
       "15    CAC    trf    118\n",
       "16     CT  novel   4094\n",
       "17     CT    trf   1890\n",
       "18     GA  novel   4224\n",
       "19     GA    trf   2820\n",
       "20  GAAAA  novel    287\n",
       "21  GAAAA    trf    111\n",
       "22   GATA  novel   1206\n",
       "23   GATA    trf    632\n",
       "24     GT  novel  17361\n",
       "25     GT    trf  13551\n",
       "26     TA  novel  22105\n",
       "27     TA    trf  10806\n",
       "28    TAA  novel    522\n",
       "29    TAA    trf    347\n",
       "30     TC  novel   8574\n",
       "31     TC    trf   4374\n",
       "32   TCTG  novel    390\n",
       "33   TCTG    trf    113\n",
       "34     TG  novel  26017\n",
       "35     TG    trf  19537\n",
       "36   TTTG  novel   3223\n",
       "37   TTTG    trf   2180"
      ]
     },
     "execution_count": 132,
     "metadata": {},
     "output_type": "execute_result"
    }
   ],
   "source": [
    "subset = catalogs[catalogs['motif'].isin(sig['motif'])]\n",
    "pd.DataFrame(subset.groupby(['motif', 'name']).size()).reset_index()"
   ]
  },
  {
   "cell_type": "code",
   "execution_count": 134,
   "metadata": {},
   "outputs": [],
   "source": [
    "novel_subset = novel[novel['motif'].isin(sig['motif'])]\n",
    "novel_pct_df = pd.DataFrame(subset.groupby(['motif']).size() / len(novel)).reset_index()\n",
    "novel_pct_df = novel_pct_df.rename({0: 'percentage'}, axis='columns')\n",
    "novel_pct_df['name'] = 'novel'"
   ]
  },
  {
   "cell_type": "code",
   "execution_count": null,
   "metadata": {},
   "outputs": [],
   "source": [
    "novel_subset = novel[novel['motif'].isin(sig['motif'])]\n",
    "novel_pct_df = pd.DataFrame(subset.groupby(['motif']).size() / len(novel)).reset_index()\n",
    "novel_pct_df = novel_pct_df.rename({0: 'percentage'}, axis='columns')\n",
    "novel_pct_df['name'] = 'novel'"
   ]
  }
 ],
 "metadata": {
  "kernelspec": {
   "display_name": "jupyter",
   "language": "python",
   "name": "jupyter"
  },
  "language_info": {
   "codemirror_mode": {
    "name": "ipython",
    "version": 3
   },
   "file_extension": ".py",
   "mimetype": "text/x-python",
   "name": "python",
   "nbconvert_exporter": "python",
   "pygments_lexer": "ipython3",
   "version": "3.9.6"
  }
 },
 "nbformat": 4,
 "nbformat_minor": 4
}
