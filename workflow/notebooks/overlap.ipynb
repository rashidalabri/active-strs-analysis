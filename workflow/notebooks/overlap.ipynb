{
 "cells": [
  {
   "cell_type": "code",
   "execution_count": 1,
   "metadata": {},
   "outputs": [],
   "source": [
    "import matplotlib\n",
    "import matplotlib.pyplot as plt\n",
    "import matplotlib.patches as mpatches\n",
    "from matplotlib.backends.backend_pdf import PdfPages\n",
    "\n",
    "import pandas as pd\n",
    "import seaborn as sns\n",
    "\n",
    "matplotlib.rcParams['pdf.fonttype'] = 42\n",
    "matplotlib.rcParams['ps.fonttype'] = 42\n",
    "\n",
    "sns.set_context('talk', font_scale=1)\n",
    "\n",
    "import numpy as np\n",
    "import scipy.stats as stats"
   ]
  },
  {
   "cell_type": "code",
   "execution_count": 15,
   "metadata": {},
   "outputs": [],
   "source": [
    "act = data = pd.read_table('../../resources/catalog_bed_standard/novel_v01.bed', header=None)\n",
    "trf = data = pd.read_table('../../resources/catalog_bed_standard/estrs.bed', header=None)\n",
    "act_trf = pd.read_table('../../resources/act_estrs.bed', header=None)\n",
    "trf_act = pd.read_table('../../resources/estrs_act.bed', header=None)"
   ]
  },
  {
   "cell_type": "code",
   "execution_count": 16,
   "metadata": {},
   "outputs": [
    {
     "data": {
      "image/png": "[encoded data removed]",
      "text/plain": [
       "<Figure size 432x504 with 1 Axes>"
      ]
     },
     "metadata": {
      "needs_background": "light"
     },
     "output_type": "display_data"
    }
   ],
   "source": [
    "fig, ax = plt.subplots(figsize=(6,7))\n",
    "\n",
    "first = pd.DataFrame({\n",
    "    'name': ['TRF recovered in\\nActive', 'Active recovered\\nin TRF'],\n",
    "    'pct': [len(act_trf) / len(act), len(trf_act) / len(trf),] \n",
    "})\n",
    "\n",
    "sec = pd.DataFrame({\n",
    "    'name': ['TRF recovered\\nin Active', 'Active recovered\\nin TRF'],\n",
    "    'pct': [1, 1] \n",
    "})\n",
    "\n",
    "# bar chart 1 -> top bars (group of 'smoker=No')\n",
    "sns.barplot(x=\"name\",  y=\"pct\", data=sec, color='grey', ax=ax)\n",
    "\n",
    "# bar chart 2 -> bottom bars (group of 'smoker=Yes')\n",
    "sns.barplot(x=\"name\", y=\"pct\", data=first, color='blue', ax=ax)\n",
    "\n",
    "ax.set_ylabel('Percentage')\n",
    "ax.set_xlabel('')\n",
    "\n",
    "\n",
    "# show the graph\n",
    "plt.show()"
   ]
  },
  {
   "cell_type": "code",
   "execution_count": 17,
   "metadata": {},
   "outputs": [
    {
     "data": {
      "text/plain": [
       "(                       name       pct\n",
       " 0  TRF recovered in\\nActive  0.997010\n",
       " 1  Active recovered\\nin TRF  0.122517,\n",
       "                        name  pct\n",
       " 0  TRF recovered\\nin Active    1\n",
       " 1  Active recovered\\nin TRF    1)"
      ]
     },
     "execution_count": 17,
     "metadata": {},
     "output_type": "execute_result"
    }
   ],
   "source": [
    "first, sec"
   ]
  },
  {
   "cell_type": "code",
   "execution_count": 14,
   "metadata": {},
   "outputs": [
    {
     "data": {
      "text/plain": [
       "(270074, 270884, 111, 906)"
      ]
     },
     "execution_count": 14,
     "metadata": {},
     "output_type": "execute_result"
    }
   ],
   "source": [
    "len(act_trf), len(act), len(trf_act), len(trf)"
   ]
  },
  {
   "cell_type": "code",
   "execution_count": 18,
   "metadata": {},
   "outputs": [],
   "source": [
    "!module load bedtools && bedtools intersect -a ../../resources/catalog_bed_standard/novel_v01.bed -b ../../resources/catalog_bed_standard/estrs.bed > s.bed"
   ]
  },
  {
   "cell_type": "code",
   "execution_count": 19,
   "metadata": {},
   "outputs": [],
   "source": [
    "s = data = pd.read_table('s.bed', header=None)"
   ]
  },
  {
   "cell_type": "code",
   "execution_count": 23,
   "metadata": {},
   "outputs": [
    {
     "data": {
      "text/plain": [
       "835"
      ]
     },
     "execution_count": 23,
     "metadata": {},
     "output_type": "execute_result"
    }
   ],
   "source": [
    "len(s)"
   ]
  },
  {
   "cell_type": "code",
   "execution_count": 22,
   "metadata": {},
   "outputs": [
    {
     "data": {
      "text/plain": [
       "906"
      ]
     },
     "execution_count": 22,
     "metadata": {},
     "output_type": "execute_result"
    }
   ],
   "source": [
    "len(trf)"
   ]
  },
  {
   "cell_type": "code",
   "execution_count": 11,
   "metadata": {},
   "outputs": [
    {
     "data": {
      "text/html": [
       "<div>\n",
       "<style scoped>\n",
       "    .dataframe tbody tr th:only-of-type {\n",
       "        vertical-align: middle;\n",
       "    }\n",
       "\n",
       "    .dataframe tbody tr th {\n",
       "        vertical-align: top;\n",
       "    }\n",
       "\n",
       "    .dataframe thead th {\n",
       "        text-align: right;\n",
       "    }\n",
       "</style>\n",
       "<table border=\"1\" class=\"dataframe\">\n",
       "  <thead>\n",
       "    <tr style=\"text-align: right;\">\n",
       "      <th></th>\n",
       "      <th>0</th>\n",
       "      <th>1</th>\n",
       "      <th>2</th>\n",
       "      <th>3</th>\n",
       "    </tr>\n",
       "  </thead>\n",
       "  <tbody>\n",
       "    <tr>\n",
       "      <th>0</th>\n",
       "      <td>chr1</td>\n",
       "      <td>13417</td>\n",
       "      <td>13421</td>\n",
       "      <td>GA</td>\n",
       "    </tr>\n",
       "    <tr>\n",
       "      <th>1</th>\n",
       "      <td>chr1</td>\n",
       "      <td>15240</td>\n",
       "      <td>15252</td>\n",
       "      <td>GGGCCA</td>\n",
       "    </tr>\n",
       "    <tr>\n",
       "      <th>2</th>\n",
       "      <td>chr1</td>\n",
       "      <td>16712</td>\n",
       "      <td>16727</td>\n",
       "      <td>TGG</td>\n",
       "    </tr>\n",
       "    <tr>\n",
       "      <th>3</th>\n",
       "      <td>chr1</td>\n",
       "      <td>30867</td>\n",
       "      <td>30891</td>\n",
       "      <td>CT</td>\n",
       "    </tr>\n",
       "    <tr>\n",
       "      <th>4</th>\n",
       "      <td>chr1</td>\n",
       "      <td>31555</td>\n",
       "      <td>31570</td>\n",
       "      <td>AAAAT</td>\n",
       "    </tr>\n",
       "    <tr>\n",
       "      <th>...</th>\n",
       "      <td>...</td>\n",
       "      <td>...</td>\n",
       "      <td>...</td>\n",
       "      <td>...</td>\n",
       "    </tr>\n",
       "    <tr>\n",
       "      <th>270069</th>\n",
       "      <td>chrY</td>\n",
       "      <td>56878253</td>\n",
       "      <td>56878271</td>\n",
       "      <td>CA</td>\n",
       "    </tr>\n",
       "    <tr>\n",
       "      <th>270070</th>\n",
       "      <td>chrY</td>\n",
       "      <td>56881158</td>\n",
       "      <td>56881173</td>\n",
       "      <td>CAAAA</td>\n",
       "    </tr>\n",
       "    <tr>\n",
       "      <th>270071</th>\n",
       "      <td>chrY</td>\n",
       "      <td>56881173</td>\n",
       "      <td>56881185</td>\n",
       "      <td>CAAA</td>\n",
       "    </tr>\n",
       "    <tr>\n",
       "      <th>270072</th>\n",
       "      <td>chrY</td>\n",
       "      <td>56881197</td>\n",
       "      <td>56881211</td>\n",
       "      <td>AG</td>\n",
       "    </tr>\n",
       "    <tr>\n",
       "      <th>270073</th>\n",
       "      <td>chrY</td>\n",
       "      <td>56884331</td>\n",
       "      <td>56884355</td>\n",
       "      <td>AAAC</td>\n",
       "    </tr>\n",
       "  </tbody>\n",
       "</table>\n",
       "<p>270074 rows × 4 columns</p>\n",
       "</div>"
      ],
      "text/plain": [
       "           0         1         2       3\n",
       "0       chr1     13417     13421      GA\n",
       "1       chr1     15240     15252  GGGCCA\n",
       "2       chr1     16712     16727     TGG\n",
       "3       chr1     30867     30891      CT\n",
       "4       chr1     31555     31570   AAAAT\n",
       "...      ...       ...       ...     ...\n",
       "270069  chrY  56878253  56878271      CA\n",
       "270070  chrY  56881158  56881173   CAAAA\n",
       "270071  chrY  56881173  56881185    CAAA\n",
       "270072  chrY  56881197  56881211      AG\n",
       "270073  chrY  56884331  56884355    AAAC\n",
       "\n",
       "[270074 rows x 4 columns]"
      ]
     },
     "execution_count": 11,
     "metadata": {},
     "output_type": "execute_result"
    }
   ],
   "source": [
    "act_trf"
   ]
  }
 ],
 "metadata": {
  "kernelspec": {
   "display_name": "jupyter",
   "language": "python",
   "name": "jupyter"
  },
  "language_info": {
   "codemirror_mode": {
    "name": "ipython",
    "version": 3
   },
   "file_extension": ".py",
   "mimetype": "text/x-python",
   "name": "python",
   "nbconvert_exporter": "python",
   "pygments_lexer": "ipython3",
   "version": "3.9.6"
  }
 },
 "nbformat": 4,
 "nbformat_minor": 4
}
