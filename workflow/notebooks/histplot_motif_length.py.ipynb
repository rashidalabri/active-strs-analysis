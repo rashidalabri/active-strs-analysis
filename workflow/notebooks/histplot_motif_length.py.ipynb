{
 "cells": [
  {
   "cell_type": "code",
   "execution_count": null,
   "id": "1eeebc8c-8b5a-471a-9bc9-9c901cfc7e61",
   "metadata": {},
   "outputs": [],
   "source": [
    "import matplotlib\n",
    "import matplotlib.pyplot as plt\n",
    "from matplotlib.backends.backend_pdf import PdfPages\n",
    "\n",
    "import pandas as pd\n",
    "import seaborn as sns\n",
    "\n",
    "matplotlib.rcParams['pdf.fonttype'] = 42\n",
    "matplotlib.rcParams['ps.fonttype'] = 42\n",
    "\n",
    "sns.set_context('talk', font_scale=1)"
   ]
  },
  {
   "cell_type": "code",
   "execution_count": 13,
   "id": "d0f1ba41-bcdd-4ef1-b272-c06f6883dd7f",
   "metadata": {},
   "outputs": [],
   "source": [
    "input_file = '../../resources/catalog_tsv_standard/novel_v01.tsv'\n",
    "input_label = 'eSTRs'"
   ]
  },
  {
   "cell_type": "code",
   "execution_count": null,
   "id": "62a942b5-dd76-426c-9059-4b96b5745f56",
   "metadata": {},
   "outputs": [],
   "source": [
    "input_file = snakemake.input[0]\n",
    "input_label = snakemake.wildcards['catalog']"
   ]
  },
  {
   "cell_type": "code",
   "execution_count": 14,
   "id": "eb614fd3-b629-45c6-98ef-106fc69372ed",
   "metadata": {},
   "outputs": [],
   "source": [
    "df = pd.read_csv(input_file, sep='\\t')"
   ]
  },
  {
   "cell_type": "code",
   "execution_count": 15,
   "id": "0a7bdc4f-6975-4cf2-807d-4fa722d80544",
   "metadata": {},
   "outputs": [
    {
     "data": {
      "text/plain": [
       "270884"
      ]
     },
     "execution_count": 15,
     "metadata": {},
     "output_type": "execute_result"
    }
   ],
   "source": [
    "len(df)"
   ]
  },
  {
   "cell_type": "code",
   "execution_count": null,
   "id": "c4021aac-f5a5-46b1-8fd6-96ceebdec309",
   "metadata": {},
   "outputs": [],
   "source": [
    "# df.sample(10)"
   ]
  },
  {
   "cell_type": "code",
   "execution_count": null,
   "id": "f321d9ea-19fa-4f8f-bd28-d66eaf6bbd26",
   "metadata": {},
   "outputs": [],
   "source": [
    "df['motif_len'] = df['motif'].str.len()"
   ]
  },
  {
   "cell_type": "code",
   "execution_count": null,
   "id": "20e46a1d-fae9-42b4-ba00-4914be8466d2",
   "metadata": {},
   "outputs": [],
   "source": [
    "pdf = PdfPages(snakemake.output[0])\n",
    "fig, ax = plt.subplots()\n",
    "sns.histplot(x='motif_len', data=df, stat='probability', kde=True, discrete=True, ax=ax)\n",
    "ax.set_title('Motif Lengths of {}'.format(input_label))\n",
    "ax.set_xlabel('Length (bp)')\n",
    "ax.set_ylim(0, 1)\n",
    "plt.tight_layout()\n",
    "pdf.savefig(fig)\n",
    "pdf.close()"
   ]
  }
 ],
 "metadata": {
  "kernelspec": {
   "display_name": "active-strs",
   "language": "python",
   "name": "active-strs"
  },
  "language_info": {
   "codemirror_mode": {
    "name": "ipython",
    "version": 3
   },
   "file_extension": ".py",
   "mimetype": "text/x-python",
   "name": "python",
   "nbconvert_exporter": "python",
   "pygments_lexer": "ipython3",
   "version": "3.9.6"
  }
 },
 "nbformat": 4,
 "nbformat_minor": 5
}
